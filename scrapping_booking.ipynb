{
 "cells": [
  {
   "cell_type": "code",
   "execution_count": 1,
   "metadata": {},
   "outputs": [],
   "source": [
    "import chromedriver_binary\n",
    "from selenium import webdriver\n",
    "from selenium.webdriver.common.keys import Keys\n",
    "from selenium.webdriver.common.action_chains import ActionChains\n",
    "from selenium.common.exceptions import NoSuchElementException\n",
    "import time\n",
    "import numpy as np\n",
    "import pandas as pd\n",
    "import concurrent.futures\n",
    "import multiprocessing"
   ]
  },
  {
   "cell_type": "code",
   "execution_count": null,
   "metadata": {},
   "outputs": [],
   "source": [
    "def launch_website(query):\n",
    "    browser = webdriver.Chrome()\n",
    "    \n",
    "    # go to AMAZON and do a query\n",
    "    browser.get('https://amazon.fr')\n",
    "    search = browser.find_element_by_id('twotabsearchtextbox')\n",
    "    search.send_keys(query)\n",
    "    button_s = browser.find_element_by_css_selector('.nav-search-submit input[type=submit]')\n",
    "    button_s.click()\n",
    "    \n",
    "    # collect results\n",
    "    results = browser.find_element_by_css_selector('.s-main-slot.s-result-list')\n",
    "    \n",
    "    # get title and price for each product\n",
    "    products = {'names' : [], 'prices': []}\n",
    "    titres = results.find_elements_by_css_selector('.rush-component h2 span')\n",
    "    prices = results.find_elements_by_css_selector('.rush-component .a-price-whole')\n",
    "    \n",
    "    products['names'] = [item.text for item in titres][:10]\n",
    "    products['prices'] = [item.text for item in prices][:10]\n",
    "    \n",
    "    # quit browser and return products data\n",
    "    browser.quit()\n",
    "    \n",
    "    # save data collected and save it to a CSV file\n",
    "    data = pd.DataFrame(products)\n",
    "    data.to_csv(f'{query}.csv', index=False)\n",
    "    return data"
   ]
  }
 ],
 "metadata": {
  "kernelspec": {
   "display_name": "Python 3",
   "language": "python",
   "name": "python3"
  },
  "language_info": {
   "codemirror_mode": {
    "name": "ipython",
    "version": 3
   },
   "file_extension": ".py",
   "mimetype": "text/x-python",
   "name": "python",
   "nbconvert_exporter": "python",
   "pygments_lexer": "ipython3",
   "version": "3.7.7"
  }
 },
 "nbformat": 4,
 "nbformat_minor": 4
}

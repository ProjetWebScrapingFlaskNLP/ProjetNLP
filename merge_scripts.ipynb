{
 "cells": [
  {
   "cell_type": "code",
   "execution_count": 2,
   "metadata": {},
   "outputs": [],
   "source": [
    "import pandas as pd"
   ]
  },
  {
   "cell_type": "code",
   "execution_count": 31,
   "metadata": {},
   "outputs": [],
   "source": [
    "datasetParis = pd.read_csv('backup_Paris.csv')\n",
    "datasetNice = pd.read_csv('backup_Nice.csv')\n",
    "datasetNantes = pd.read_csv('backup_Nantes.csv')\n",
    "datasetCap = pd.read_csv('backup_Cap Breton.csv')\n",
    "datasetCannes = pd.read_csv('backup_Cannes.csv')\n",
    "datasetBiarritz = pd.read_csv('backup_Biarritz.csv')\n",
    "datasetBrest = pd.read_csv('backup_Brest.csv')\n",
    "datasetLyon = pd.read_csv('backup_Lyon.csv')\n",
    "datasetMont = pd.read_csv('backup_Montpellier.csv')\n",
    "\n",
    "datasetAmiens = pd.read_csv('backup_Amiens.csv')\n",
    "datasetHonf = pd.read_csv('backup_Honfleur.csv')\n",
    "datasetPerp = pd.read_csv('backup_Perpignan.csv')"
   ]
  },
  {
   "cell_type": "code",
   "execution_count": 32,
   "metadata": {},
   "outputs": [],
   "source": [
    "comments = pd.concat([datasetParis, datasetNice, datasetNantes, datasetCap, datasetCannes, datasetBiarritz, \n",
    "                         datasetBrest, datasetLyon, datasetMont, datasetAmiens, \n",
    "                     datasetHonf, datasetPerp ], axis=0)"
   ]
  },
  {
   "cell_type": "code",
   "execution_count": 33,
   "metadata": {},
   "outputs": [],
   "source": [
    "backup = pd.read_csv('backup.csv')\n",
    "\n",
    "backup = backup.loc[backup['lieu'] != 'Paris']"
   ]
  },
  {
   "cell_type": "code",
   "execution_count": 34,
   "metadata": {},
   "outputs": [],
   "source": [
    "all_comments = pd.concat([comments, backup], axis=0)\n",
    "all_comments.to_csv('booking.csv', index=False)"
   ]
  },
  {
   "cell_type": "code",
   "execution_count": 3,
   "metadata": {},
   "outputs": [],
   "source": [
    "datasetParis = pd.read_csv('backup_booking_Paris.csv')\n",
    "datasetCannes = pd.read_csv('backup_booking_Cannes.csv')\n",
    "datasetMarseille = pd.read_csv('backup_booking_Marseille.csv')\n",
    "datasetLyon = pd.read_csv('backup_booking_Lyon.csv')\n",
    "\n",
    "comments = pd.concat([datasetParis, datasetCannes, datasetMarseille, datasetLyon], axis=0)\n",
    "\n",
    "comments.to_csv('booking_0206.csv', index=False)"
   ]
  }
 ],
 "metadata": {
  "kernelspec": {
   "display_name": "Python 3",
   "language": "python",
   "name": "python3"
  },
  "language_info": {
   "codemirror_mode": {
    "name": "ipython",
    "version": 3
   },
   "file_extension": ".py",
   "mimetype": "text/x-python",
   "name": "python",
   "nbconvert_exporter": "python",
   "pygments_lexer": "ipython3",
   "version": "3.7.7"
  }
 },
 "nbformat": 4,
 "nbformat_minor": 4
}

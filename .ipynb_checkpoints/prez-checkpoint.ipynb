{
 "cells": [
  {
   "cell_type": "code",
   "execution_count": 2,
   "metadata": {},
   "outputs": [],
   "source": [
    "import pandas as pd\n",
    "import numpy as np\n",
    "import matplotlib.pyplot as plt\n",
    "import seaborn as sns\n",
    "import time\n",
    "import nltk\n",
    "from nltk.tokenize import word_tokenize\n",
    "from nltk.tag import pos_tag\n",
    "from nltk.stem.snowball import FrenchStemmer\n",
    "from stop_words import get_stop_words\n",
    "import string\n",
    "from wordcloud import WordCloud\n",
    "from spellchecker import SpellChecker\n",
    "from textblob import TextBlob\n",
    "from textblob_fr import PatternTagger, PatternAnalyzer\n",
    "from sklearn.model_selection import train_test_split, GridSearchCV\n",
    "from sklearn.pipeline import make_pipeline\n",
    "from sklearn.feature_extraction.text import TfidfTransformer, CountVectorizer\n",
    "from sklearn.linear_model import LogisticRegression\n",
    "from sklearn.naive_bayes import BernoulliNB\n",
    "from sklearn.svm import SVC\n",
    "from sklearn.ensemble import RandomForestClassifier, GradientBoostingClassifier, AdaBoostClassifier\n",
    "from sklearn.decomposition import TruncatedSVD\n",
    "from xgboost.sklearn import XGBClassifier\n",
    "from sklearn.metrics import classification_report, confusion_matrix, accuracy_score, auc"
   ]
  },
  {
   "cell_type": "code",
   "execution_count": 3,
   "metadata": {
    "jupyter": {
     "source_hidden": true
    }
   },
   "outputs": [],
   "source": [
    "plt.rcParams['text.color'] = 'black'\n",
    "plt.rcParams[\"font.size\"] = 18\n",
    "plt.rcParams[\"figure.figsize\"] = [6, 6]"
   ]
  },
  {
   "cell_type": "code",
   "execution_count": 4,
   "metadata": {
    "jupyter": {
     "source_hidden": true
    }
   },
   "outputs": [
    {
     "name": "stderr",
     "output_type": "stream",
     "text": [
      "[nltk_data] Downloading package punkt to /Users/nohossat/nltk_data...\n",
      "[nltk_data]   Package punkt is already up-to-date!\n",
      "[nltk_data] Downloading package averaged_perceptron_tagger to\n",
      "[nltk_data]     /Users/nohossat/nltk_data...\n",
      "[nltk_data]   Package averaged_perceptron_tagger is already up-to-\n",
      "[nltk_data]       date!\n"
     ]
    },
    {
     "data": {
      "text/plain": [
       "True"
      ]
     },
     "execution_count": 4,
     "metadata": {},
     "output_type": "execute_result"
    }
   ],
   "source": [
    "# needed for tokenization\n",
    "nltk.download('punkt')\n",
    "nltk.download('averaged_perceptron_tagger')\n",
    "# You need the averaged_perceptron_tagger resource to determine the context of a word in a sentence."
   ]
  },
  {
   "cell_type": "code",
   "execution_count": 5,
   "metadata": {},
   "outputs": [],
   "source": [
    "df = pd.read_csv(\"booking_0206.csv\", na_values=[''], decimal=',', encoding=\"utf8\", escapechar='\\\\')"
   ]
  },
  {
   "cell_type": "markdown",
   "metadata": {},
   "source": [
    "## Exploration des données"
   ]
  },
  {
   "cell_type": "code",
   "execution_count": 6,
   "metadata": {
    "jupyter": {
     "source_hidden": true
    }
   },
   "outputs": [
    {
     "data": {
      "text/html": [
       "<div>\n",
       "<style scoped>\n",
       "    .dataframe tbody tr th:only-of-type {\n",
       "        vertical-align: middle;\n",
       "    }\n",
       "\n",
       "    .dataframe tbody tr th {\n",
       "        vertical-align: top;\n",
       "    }\n",
       "\n",
       "    .dataframe thead th {\n",
       "        text-align: right;\n",
       "    }\n",
       "</style>\n",
       "<table border=\"1\" class=\"dataframe\">\n",
       "  <thead>\n",
       "    <tr style=\"text-align: right;\">\n",
       "      <th></th>\n",
       "      <th>nom</th>\n",
       "      <th>pays</th>\n",
       "      <th>favorite</th>\n",
       "      <th>date</th>\n",
       "      <th>titre</th>\n",
       "      <th>bons_points</th>\n",
       "      <th>mauvais_points</th>\n",
       "      <th>note</th>\n",
       "      <th>type_etablissement</th>\n",
       "      <th>lieu</th>\n",
       "      <th>note_etablissement</th>\n",
       "    </tr>\n",
       "  </thead>\n",
       "  <tbody>\n",
       "    <tr>\n",
       "      <th>0</th>\n",
       "      <td>Jean</td>\n",
       "      <td>France</td>\n",
       "      <td>1.0</td>\n",
       "      <td>2018-07-30</td>\n",
       "      <td>Exceptionnel</td>\n",
       "      <td>Accueil, lit confortable, choix au petit déjeuner</td>\n",
       "      <td>None</td>\n",
       "      <td>10.0</td>\n",
       "      <td>Hôtel</td>\n",
       "      <td>Paris</td>\n",
       "      <td>8.0</td>\n",
       "    </tr>\n",
       "    <tr>\n",
       "      <th>1</th>\n",
       "      <td>Fabienne</td>\n",
       "      <td>France</td>\n",
       "      <td>0.0</td>\n",
       "      <td>2020-03-17</td>\n",
       "      <td>Très bien</td>\n",
       "      <td>Très bonne localisation \\nPersonnel très agréable</td>\n",
       "      <td>Chambre très bruyante</td>\n",
       "      <td>8.0</td>\n",
       "      <td>Hôtel</td>\n",
       "      <td>Paris</td>\n",
       "      <td>8.0</td>\n",
       "    </tr>\n",
       "    <tr>\n",
       "      <th>2</th>\n",
       "      <td>Katarzyna</td>\n",
       "      <td>France</td>\n",
       "      <td>0.0</td>\n",
       "      <td>2020-03-15</td>\n",
       "      <td>Très agréable</td>\n",
       "      <td>Accueil très chaleureux et très pro. Très bien...</td>\n",
       "      <td>La chambre côté rue un peu de bruit. Le cadre ...</td>\n",
       "      <td>9.0</td>\n",
       "      <td>Hôtel</td>\n",
       "      <td>Paris</td>\n",
       "      <td>8.0</td>\n",
       "    </tr>\n",
       "    <tr>\n",
       "      <th>3</th>\n",
       "      <td>Guy</td>\n",
       "      <td>France</td>\n",
       "      <td>0.0</td>\n",
       "      <td>2020-03-13</td>\n",
       "      <td>bon séjour nous reviendrons</td>\n",
       "      <td>chambre très petite</td>\n",
       "      <td>calme pour Paris</td>\n",
       "      <td>7.0</td>\n",
       "      <td>Hôtel</td>\n",
       "      <td>Paris</td>\n",
       "      <td>8.0</td>\n",
       "    </tr>\n",
       "    <tr>\n",
       "      <th>4</th>\n",
       "      <td>Audrey</td>\n",
       "      <td>France</td>\n",
       "      <td>0.0</td>\n",
       "      <td>2020-03-12</td>\n",
       "      <td>Fabuleux</td>\n",
       "      <td>None</td>\n",
       "      <td>Services très bien et très bien situé</td>\n",
       "      <td>9.0</td>\n",
       "      <td>Hôtel</td>\n",
       "      <td>Paris</td>\n",
       "      <td>8.0</td>\n",
       "    </tr>\n",
       "  </tbody>\n",
       "</table>\n",
       "</div>"
      ],
      "text/plain": [
       "         nom    pays favorite        date                        titre  \\\n",
       "0       Jean  France      1.0  2018-07-30                 Exceptionnel   \n",
       "1   Fabienne  France      0.0  2020-03-17                    Très bien   \n",
       "2  Katarzyna  France      0.0  2020-03-15                Très agréable   \n",
       "3        Guy  France      0.0  2020-03-13  bon séjour nous reviendrons   \n",
       "4     Audrey  France      0.0  2020-03-12                    Fabuleux    \n",
       "\n",
       "                                         bons_points  \\\n",
       "0  Accueil, lit confortable, choix au petit déjeuner   \n",
       "1  Très bonne localisation \\nPersonnel très agréable   \n",
       "2  Accueil très chaleureux et très pro. Très bien...   \n",
       "3                                chambre très petite   \n",
       "4                                               None   \n",
       "\n",
       "                                      mauvais_points  note type_etablissement  \\\n",
       "0                                               None  10.0              Hôtel   \n",
       "1                              Chambre très bruyante   8.0              Hôtel   \n",
       "2  La chambre côté rue un peu de bruit. Le cadre ...   9.0              Hôtel   \n",
       "3                                   calme pour Paris   7.0              Hôtel   \n",
       "4              Services très bien et très bien situé   9.0              Hôtel   \n",
       "\n",
       "    lieu  note_etablissement  \n",
       "0  Paris                 8.0  \n",
       "1  Paris                 8.0  \n",
       "2  Paris                 8.0  \n",
       "3  Paris                 8.0  \n",
       "4  Paris                 8.0  "
      ]
     },
     "execution_count": 6,
     "metadata": {},
     "output_type": "execute_result"
    }
   ],
   "source": [
    "df.head()"
   ]
  },
  {
   "cell_type": "code",
   "execution_count": 7,
   "metadata": {
    "jupyter": {
     "source_hidden": true
    }
   },
   "outputs": [
    {
     "name": "stdout",
     "output_type": "stream",
     "text": [
      "Le dataset a 52048 lignes et 11 colonnes.\n",
      "\n",
      "Les différents variables sont : \n",
      "- nom\n",
      "- pays\n",
      "- favorite\n",
      "- date\n",
      "- titre\n",
      "- bons_points\n",
      "- mauvais_points\n",
      "- note\n",
      "- type_etablissement\n",
      "- lieu\n",
      "- note_etablissement\n"
     ]
    }
   ],
   "source": [
    "#dimensions du dataframe\n",
    "print(f'Le dataset a {df.shape[0]} lignes et {df.shape[1]} colonnes.')\n",
    "print('')\n",
    "#affichage des variables\n",
    "print(f'Les différents variables sont : ')\n",
    "\n",
    "for col in df.columns.values:\n",
    "    print(f'- {col}')"
   ]
  },
  {
   "cell_type": "markdown",
   "metadata": {},
   "source": [
    "### Statistiques descriptives"
   ]
  },
  {
   "cell_type": "code",
   "execution_count": 8,
   "metadata": {
    "jupyter": {
     "source_hidden": true
    }
   },
   "outputs": [
    {
     "data": {
      "text/html": [
       "<div>\n",
       "<style scoped>\n",
       "    .dataframe tbody tr th:only-of-type {\n",
       "        vertical-align: middle;\n",
       "    }\n",
       "\n",
       "    .dataframe tbody tr th {\n",
       "        vertical-align: top;\n",
       "    }\n",
       "\n",
       "    .dataframe thead th {\n",
       "        text-align: right;\n",
       "    }\n",
       "</style>\n",
       "<table border=\"1\" class=\"dataframe\">\n",
       "  <thead>\n",
       "    <tr style=\"text-align: right;\">\n",
       "      <th></th>\n",
       "      <th>nom</th>\n",
       "      <th>pays</th>\n",
       "      <th>favorite</th>\n",
       "      <th>date</th>\n",
       "      <th>titre</th>\n",
       "      <th>bons_points</th>\n",
       "      <th>mauvais_points</th>\n",
       "      <th>note</th>\n",
       "      <th>type_etablissement</th>\n",
       "      <th>lieu</th>\n",
       "      <th>note_etablissement</th>\n",
       "    </tr>\n",
       "  </thead>\n",
       "  <tbody>\n",
       "    <tr>\n",
       "      <th>count</th>\n",
       "      <td>50815</td>\n",
       "      <td>50817</td>\n",
       "      <td>52002</td>\n",
       "      <td>52046</td>\n",
       "      <td>50819</td>\n",
       "      <td>50905</td>\n",
       "      <td>51325</td>\n",
       "      <td>50808.000000</td>\n",
       "      <td>52046</td>\n",
       "      <td>52046</td>\n",
       "      <td>52046.000000</td>\n",
       "    </tr>\n",
       "    <tr>\n",
       "      <th>unique</th>\n",
       "      <td>9636</td>\n",
       "      <td>131</td>\n",
       "      <td>2</td>\n",
       "      <td>1222</td>\n",
       "      <td>14667</td>\n",
       "      <td>33270</td>\n",
       "      <td>28137</td>\n",
       "      <td>NaN</td>\n",
       "      <td>10</td>\n",
       "      <td>4</td>\n",
       "      <td>NaN</td>\n",
       "    </tr>\n",
       "    <tr>\n",
       "      <th>top</th>\n",
       "      <td>Anonyme</td>\n",
       "      <td>France</td>\n",
       "      <td>0.0</td>\n",
       "      <td>None</td>\n",
       "      <td>Bien</td>\n",
       "      <td>Ce client n'a pas laissé de commentaire.</td>\n",
       "      <td>None</td>\n",
       "      <td>NaN</td>\n",
       "      <td>Hôtel</td>\n",
       "      <td>Cannes</td>\n",
       "      <td>NaN</td>\n",
       "    </tr>\n",
       "    <tr>\n",
       "      <th>freq</th>\n",
       "      <td>2506</td>\n",
       "      <td>43991</td>\n",
       "      <td>51148</td>\n",
       "      <td>1230</td>\n",
       "      <td>7914</td>\n",
       "      <td>7470</td>\n",
       "      <td>18049</td>\n",
       "      <td>NaN</td>\n",
       "      <td>41466</td>\n",
       "      <td>14644</td>\n",
       "      <td>NaN</td>\n",
       "    </tr>\n",
       "    <tr>\n",
       "      <th>mean</th>\n",
       "      <td>NaN</td>\n",
       "      <td>NaN</td>\n",
       "      <td>NaN</td>\n",
       "      <td>NaN</td>\n",
       "      <td>NaN</td>\n",
       "      <td>NaN</td>\n",
       "      <td>NaN</td>\n",
       "      <td>7.920617</td>\n",
       "      <td>NaN</td>\n",
       "      <td>NaN</td>\n",
       "      <td>7.889899</td>\n",
       "    </tr>\n",
       "    <tr>\n",
       "      <th>std</th>\n",
       "      <td>NaN</td>\n",
       "      <td>NaN</td>\n",
       "      <td>NaN</td>\n",
       "      <td>NaN</td>\n",
       "      <td>NaN</td>\n",
       "      <td>NaN</td>\n",
       "      <td>NaN</td>\n",
       "      <td>1.692679</td>\n",
       "      <td>NaN</td>\n",
       "      <td>NaN</td>\n",
       "      <td>0.804683</td>\n",
       "    </tr>\n",
       "    <tr>\n",
       "      <th>min</th>\n",
       "      <td>NaN</td>\n",
       "      <td>NaN</td>\n",
       "      <td>NaN</td>\n",
       "      <td>NaN</td>\n",
       "      <td>NaN</td>\n",
       "      <td>NaN</td>\n",
       "      <td>NaN</td>\n",
       "      <td>1.000000</td>\n",
       "      <td>NaN</td>\n",
       "      <td>NaN</td>\n",
       "      <td>4.600000</td>\n",
       "    </tr>\n",
       "    <tr>\n",
       "      <th>25%</th>\n",
       "      <td>NaN</td>\n",
       "      <td>NaN</td>\n",
       "      <td>NaN</td>\n",
       "      <td>NaN</td>\n",
       "      <td>NaN</td>\n",
       "      <td>NaN</td>\n",
       "      <td>NaN</td>\n",
       "      <td>7.100000</td>\n",
       "      <td>NaN</td>\n",
       "      <td>NaN</td>\n",
       "      <td>7.500000</td>\n",
       "    </tr>\n",
       "    <tr>\n",
       "      <th>50%</th>\n",
       "      <td>NaN</td>\n",
       "      <td>NaN</td>\n",
       "      <td>NaN</td>\n",
       "      <td>NaN</td>\n",
       "      <td>NaN</td>\n",
       "      <td>NaN</td>\n",
       "      <td>NaN</td>\n",
       "      <td>8.000000</td>\n",
       "      <td>NaN</td>\n",
       "      <td>NaN</td>\n",
       "      <td>8.000000</td>\n",
       "    </tr>\n",
       "    <tr>\n",
       "      <th>75%</th>\n",
       "      <td>NaN</td>\n",
       "      <td>NaN</td>\n",
       "      <td>NaN</td>\n",
       "      <td>NaN</td>\n",
       "      <td>NaN</td>\n",
       "      <td>NaN</td>\n",
       "      <td>NaN</td>\n",
       "      <td>9.200000</td>\n",
       "      <td>NaN</td>\n",
       "      <td>NaN</td>\n",
       "      <td>8.400000</td>\n",
       "    </tr>\n",
       "    <tr>\n",
       "      <th>max</th>\n",
       "      <td>NaN</td>\n",
       "      <td>NaN</td>\n",
       "      <td>NaN</td>\n",
       "      <td>NaN</td>\n",
       "      <td>NaN</td>\n",
       "      <td>NaN</td>\n",
       "      <td>NaN</td>\n",
       "      <td>10.000000</td>\n",
       "      <td>NaN</td>\n",
       "      <td>NaN</td>\n",
       "      <td>9.900000</td>\n",
       "    </tr>\n",
       "  </tbody>\n",
       "</table>\n",
       "</div>"
      ],
      "text/plain": [
       "            nom    pays favorite   date  titre  \\\n",
       "count     50815   50817    52002  52046  50819   \n",
       "unique     9636     131        2   1222  14667   \n",
       "top     Anonyme  France      0.0   None  Bien    \n",
       "freq       2506   43991    51148   1230   7914   \n",
       "mean        NaN     NaN      NaN    NaN    NaN   \n",
       "std         NaN     NaN      NaN    NaN    NaN   \n",
       "min         NaN     NaN      NaN    NaN    NaN   \n",
       "25%         NaN     NaN      NaN    NaN    NaN   \n",
       "50%         NaN     NaN      NaN    NaN    NaN   \n",
       "75%         NaN     NaN      NaN    NaN    NaN   \n",
       "max         NaN     NaN      NaN    NaN    NaN   \n",
       "\n",
       "                                     bons_points mauvais_points          note  \\\n",
       "count                                      50905          51325  50808.000000   \n",
       "unique                                     33270          28137           NaN   \n",
       "top     Ce client n'a pas laissé de commentaire.           None           NaN   \n",
       "freq                                        7470          18049           NaN   \n",
       "mean                                         NaN            NaN      7.920617   \n",
       "std                                          NaN            NaN      1.692679   \n",
       "min                                          NaN            NaN      1.000000   \n",
       "25%                                          NaN            NaN      7.100000   \n",
       "50%                                          NaN            NaN      8.000000   \n",
       "75%                                          NaN            NaN      9.200000   \n",
       "max                                          NaN            NaN     10.000000   \n",
       "\n",
       "       type_etablissement    lieu  note_etablissement  \n",
       "count               52046   52046        52046.000000  \n",
       "unique                 10       4                 NaN  \n",
       "top                 Hôtel  Cannes                 NaN  \n",
       "freq                41466   14644                 NaN  \n",
       "mean                  NaN     NaN            7.889899  \n",
       "std                   NaN     NaN            0.804683  \n",
       "min                   NaN     NaN            4.600000  \n",
       "25%                   NaN     NaN            7.500000  \n",
       "50%                   NaN     NaN            8.000000  \n",
       "75%                   NaN     NaN            8.400000  \n",
       "max                   NaN     NaN            9.900000  "
      ]
     },
     "execution_count": 8,
     "metadata": {},
     "output_type": "execute_result"
    }
   ],
   "source": [
    "#statistiques descriptives du dataset\n",
    "df.describe(include='all')"
   ]
  },
  {
   "cell_type": "markdown",
   "metadata": {},
   "source": [
    ">Les statistiques descriptives nous donnent pas d'élèments pertinents puisque la plupart de nos variables sont de type object"
   ]
  },
  {
   "cell_type": "markdown",
   "metadata": {},
   "source": [
    "## Sélection des variables"
   ]
  },
  {
   "cell_type": "markdown",
   "metadata": {},
   "source": [
    "Dans notre analyse, on partira sur deux hypothèses pour déterminer la polarité des commentaires:\n",
    "    - calcul de la polarité des commentaires récoltés\n",
    "    - utilisation de la colonne note pour déterminer la polarité\n",
    "    \n",
    "On conservera donc toutes les variables qui constituent le commentaire final et la note associée."
   ]
  },
  {
   "cell_type": "code",
   "execution_count": 9,
   "metadata": {
    "jupyter": {
     "source_hidden": true
    }
   },
   "outputs": [
    {
     "data": {
      "text/html": [
       "<div>\n",
       "<style scoped>\n",
       "    .dataframe tbody tr th:only-of-type {\n",
       "        vertical-align: middle;\n",
       "    }\n",
       "\n",
       "    .dataframe tbody tr th {\n",
       "        vertical-align: top;\n",
       "    }\n",
       "\n",
       "    .dataframe thead th {\n",
       "        text-align: right;\n",
       "    }\n",
       "</style>\n",
       "<table border=\"1\" class=\"dataframe\">\n",
       "  <thead>\n",
       "    <tr style=\"text-align: right;\">\n",
       "      <th></th>\n",
       "      <th>titre</th>\n",
       "      <th>bons_points</th>\n",
       "      <th>mauvais_points</th>\n",
       "      <th>note</th>\n",
       "    </tr>\n",
       "  </thead>\n",
       "  <tbody>\n",
       "    <tr>\n",
       "      <th>0</th>\n",
       "      <td>Exceptionnel</td>\n",
       "      <td>Accueil, lit confortable, choix au petit déjeuner</td>\n",
       "      <td>None</td>\n",
       "      <td>10.0</td>\n",
       "    </tr>\n",
       "    <tr>\n",
       "      <th>1</th>\n",
       "      <td>Très bien</td>\n",
       "      <td>Très bonne localisation \\nPersonnel très agréable</td>\n",
       "      <td>Chambre très bruyante</td>\n",
       "      <td>8.0</td>\n",
       "    </tr>\n",
       "    <tr>\n",
       "      <th>2</th>\n",
       "      <td>Très agréable</td>\n",
       "      <td>Accueil très chaleureux et très pro. Très bien...</td>\n",
       "      <td>La chambre côté rue un peu de bruit. Le cadre ...</td>\n",
       "      <td>9.0</td>\n",
       "    </tr>\n",
       "    <tr>\n",
       "      <th>3</th>\n",
       "      <td>bon séjour nous reviendrons</td>\n",
       "      <td>chambre très petite</td>\n",
       "      <td>calme pour Paris</td>\n",
       "      <td>7.0</td>\n",
       "    </tr>\n",
       "    <tr>\n",
       "      <th>4</th>\n",
       "      <td>Fabuleux</td>\n",
       "      <td>None</td>\n",
       "      <td>Services très bien et très bien situé</td>\n",
       "      <td>9.0</td>\n",
       "    </tr>\n",
       "  </tbody>\n",
       "</table>\n",
       "</div>"
      ],
      "text/plain": [
       "                         titre  \\\n",
       "0                 Exceptionnel   \n",
       "1                    Très bien   \n",
       "2                Très agréable   \n",
       "3  bon séjour nous reviendrons   \n",
       "4                    Fabuleux    \n",
       "\n",
       "                                         bons_points  \\\n",
       "0  Accueil, lit confortable, choix au petit déjeuner   \n",
       "1  Très bonne localisation \\nPersonnel très agréable   \n",
       "2  Accueil très chaleureux et très pro. Très bien...   \n",
       "3                                chambre très petite   \n",
       "4                                               None   \n",
       "\n",
       "                                      mauvais_points  note  \n",
       "0                                               None  10.0  \n",
       "1                              Chambre très bruyante   8.0  \n",
       "2  La chambre côté rue un peu de bruit. Le cadre ...   9.0  \n",
       "3                                   calme pour Paris   7.0  \n",
       "4              Services très bien et très bien situé   9.0  "
      ]
     },
     "execution_count": 9,
     "metadata": {},
     "output_type": "execute_result"
    }
   ],
   "source": [
    "data = df.drop(['nom', 'pays', 'favorite', 'date', 'type_etablissement', 'lieu', 'note_etablissement'], axis= 1)\n",
    "\n",
    "data.head()"
   ]
  },
  {
   "cell_type": "markdown",
   "metadata": {},
   "source": [
    "## Traitement des valeurs manquantes"
   ]
  },
  {
   "cell_type": "code",
   "execution_count": 10,
   "metadata": {
    "jupyter": {
     "source_hidden": true
    }
   },
   "outputs": [
    {
     "data": {
      "text/plain": [
       "titre             1229\n",
       "bons_points       1143\n",
       "mauvais_points     723\n",
       "note              1240\n",
       "dtype: int64"
      ]
     },
     "execution_count": 10,
     "metadata": {},
     "output_type": "execute_result"
    }
   ],
   "source": [
    "data.isna().sum()"
   ]
  },
  {
   "cell_type": "code",
   "execution_count": 11,
   "metadata": {},
   "outputs": [
    {
     "data": {
      "text/plain": [
       "titre             0\n",
       "bons_points       0\n",
       "mauvais_points    0\n",
       "note              0\n",
       "dtype: int64"
      ]
     },
     "execution_count": 11,
     "metadata": {},
     "output_type": "execute_result"
    }
   ],
   "source": [
    "# we delete empty rows\n",
    "data = data.dropna(how='all')\n",
    "\n",
    "# we delete the rows where the note is null - have to be careful with this\n",
    "data = data.loc[data.note.notna()]\n",
    "\n",
    "# in the titre, bons_points and mauvais points columns we replace nan by empty strings\n",
    "data = data.fillna('')\n",
    "\n",
    "data.isna().sum()"
   ]
  },
  {
   "cell_type": "markdown",
   "metadata": {},
   "source": [
    "## Concaténation des colonnes Titre, Bons Points et Mauvais Points"
   ]
  },
  {
   "cell_type": "code",
   "execution_count": 12,
   "metadata": {
    "jupyter": {
     "source_hidden": true
    }
   },
   "outputs": [
    {
     "data": {
      "text/html": [
       "<div>\n",
       "<style scoped>\n",
       "    .dataframe tbody tr th:only-of-type {\n",
       "        vertical-align: middle;\n",
       "    }\n",
       "\n",
       "    .dataframe tbody tr th {\n",
       "        vertical-align: top;\n",
       "    }\n",
       "\n",
       "    .dataframe thead th {\n",
       "        text-align: right;\n",
       "    }\n",
       "</style>\n",
       "<table border=\"1\" class=\"dataframe\">\n",
       "  <thead>\n",
       "    <tr style=\"text-align: right;\">\n",
       "      <th></th>\n",
       "      <th>review</th>\n",
       "      <th>note</th>\n",
       "    </tr>\n",
       "  </thead>\n",
       "  <tbody>\n",
       "    <tr>\n",
       "      <th>0</th>\n",
       "      <td>Exceptionnel Accueil, lit confortable, choix a...</td>\n",
       "      <td>10.0</td>\n",
       "    </tr>\n",
       "    <tr>\n",
       "      <th>1</th>\n",
       "      <td>Très bien Très bonne localisation \\nPersonnel ...</td>\n",
       "      <td>8.0</td>\n",
       "    </tr>\n",
       "    <tr>\n",
       "      <th>2</th>\n",
       "      <td>Très agréable Accueil très chaleureux et très ...</td>\n",
       "      <td>9.0</td>\n",
       "    </tr>\n",
       "    <tr>\n",
       "      <th>3</th>\n",
       "      <td>bon séjour nous reviendrons chambre très petit...</td>\n",
       "      <td>7.0</td>\n",
       "    </tr>\n",
       "    <tr>\n",
       "      <th>4</th>\n",
       "      <td>Fabuleux  None Services très bien et très bien...</td>\n",
       "      <td>9.0</td>\n",
       "    </tr>\n",
       "    <tr>\n",
       "      <th>...</th>\n",
       "      <td>...</td>\n",
       "      <td>...</td>\n",
       "    </tr>\n",
       "    <tr>\n",
       "      <th>52043</th>\n",
       "      <td>Exceptionnel Établissement bien placé et chamb...</td>\n",
       "      <td>10.0</td>\n",
       "    </tr>\n",
       "    <tr>\n",
       "      <th>52044</th>\n",
       "      <td>Peu confortable ! La situation géographique, p...</td>\n",
       "      <td>4.6</td>\n",
       "    </tr>\n",
       "    <tr>\n",
       "      <th>52045</th>\n",
       "      <td>Exceptionnel Bon emplacement, propreté des lie...</td>\n",
       "      <td>10.0</td>\n",
       "    </tr>\n",
       "    <tr>\n",
       "      <th>52046</th>\n",
       "      <td>Exceptionnel Appartement très fonctionnel avec...</td>\n",
       "      <td>10.0</td>\n",
       "    </tr>\n",
       "    <tr>\n",
       "      <th>52047</th>\n",
       "      <td>pas satisfaite None pas de wifi et parking tro...</td>\n",
       "      <td>2.5</td>\n",
       "    </tr>\n",
       "  </tbody>\n",
       "</table>\n",
       "<p>50808 rows × 2 columns</p>\n",
       "</div>"
      ],
      "text/plain": [
       "                                                  review  note\n",
       "0      Exceptionnel Accueil, lit confortable, choix a...  10.0\n",
       "1      Très bien Très bonne localisation \\nPersonnel ...   8.0\n",
       "2      Très agréable Accueil très chaleureux et très ...   9.0\n",
       "3      bon séjour nous reviendrons chambre très petit...   7.0\n",
       "4      Fabuleux  None Services très bien et très bien...   9.0\n",
       "...                                                  ...   ...\n",
       "52043  Exceptionnel Établissement bien placé et chamb...  10.0\n",
       "52044  Peu confortable ! La situation géographique, p...   4.6\n",
       "52045  Exceptionnel Bon emplacement, propreté des lie...  10.0\n",
       "52046  Exceptionnel Appartement très fonctionnel avec...  10.0\n",
       "52047  pas satisfaite None pas de wifi et parking tro...   2.5\n",
       "\n",
       "[50808 rows x 2 columns]"
      ]
     },
     "execution_count": 12,
     "metadata": {},
     "output_type": "execute_result"
    }
   ],
   "source": [
    "# merge columns\n",
    "data['review'] = data.titre + ' ' + data.bons_points + ' ' + data.mauvais_points\n",
    "data = data[['review', 'note']]\n",
    "data"
   ]
  },
  {
   "cell_type": "markdown",
   "metadata": {},
   "source": [
    "On a remarqué que certains commentaires étaient des commentaires automatiques de Booking, on s'assure qu'il n'y en a plus après le retrait des lignes sans note"
   ]
  },
  {
   "cell_type": "code",
   "execution_count": 13,
   "metadata": {},
   "outputs": [
    {
     "data": {
      "text/plain": [
       "(50808, 2)"
      ]
     },
     "execution_count": 13,
     "metadata": {},
     "output_type": "execute_result"
    }
   ],
   "source": [
    "#suppression de deux phrases récurrentes dans les données\n",
    "commentaires_booking = [\"Ce commentaire n'apparaît pas car il ne respecte pas notre charte.\", \"Ce client n'a pas laissé de commentaire.\"]\n",
    "mask = (data.review.isin(commentaires_booking))\n",
    "data = data.loc[~mask]\n",
    "data.shape"
   ]
  },
  {
   "cell_type": "markdown",
   "metadata": {},
   "source": [
    "## Proportion de commentaires positifs / négatifs"
   ]
  },
  {
   "cell_type": "code",
   "execution_count": 14,
   "metadata": {
    "jupyter": {
     "source_hidden": true
    }
   },
   "outputs": [
    {
     "data": {
      "image/png": "[encoded data removed]",
      "text/plain": [
       "<Figure size 432x432 with 1 Axes>"
      ]
     },
     "metadata": {},
     "output_type": "display_data"
    }
   ],
   "source": [
    "#diagramme circulaire des modalités de la polarité des commentaires\n",
    "data_percentages = data.note.groupby(data.note > 6).size() / data.shape[0]\n",
    "\n",
    "fig1, ax1 = plt.subplots()\n",
    "\n",
    "plt.title(\"Pourcentage des commentaires positifs vs négatifs\", fontsize=18)\n",
    "labels = ['positif', 'négatif']\n",
    "sizes = [data_percentages[1], data_percentages[0]]\n",
    "\n",
    "patches, texts, autotexts = ax1.pie(sizes,  labels=labels, autopct='%1.1f%%', startangle=130, colors = ['#70A288', '#6D2E46'])\n",
    "texts[0].set_fontsize(15)\n",
    "texts[1].set_fontsize(15)"
   ]
  },
  {
   "cell_type": "markdown",
   "metadata": {},
   "source": [
    "## Préparer notre jeu de données pour le NLP"
   ]
  },
  {
   "cell_type": "markdown",
   "metadata": {},
   "source": [
    "Pour optimiser notre modélisation, on souhaite **conserver seulement les mots / caractères les plus pertinents pour déterminer la polarité d'un commentaire**. \n",
    "\n",
    "Il y a deux approches : \n",
    "- découpage par mot\n",
    "- découpage par groupe de mots (bag of words)\n",
    "\n",
    "### Tokenisation\n",
    "\n",
    "Pour ce faire, on va passer par 4 étapes :\n",
    "\n",
    "- correction orthographique - trop de preprocessing, il faut flagguer tous les noms propres, recuperer la liste des mots corrects en FR\n",
    "- tokenisation\n",
    "- retrait des stop words\n",
    "- Lexicon Normalization : Stemming and Lemmatization"
   ]
  },
  {
   "cell_type": "markdown",
   "metadata": {},
   "source": [
    "### 1 - Correction orthographique"
   ]
  },
  {
   "cell_type": "code",
   "execution_count": 15,
   "metadata": {},
   "outputs": [],
   "source": [
    "# spell = SpellChecker('fr', 'fr_FR')\n",
    "# spell = SpellChecker()\n",
    "\n",
    "# find those words that may be misspelled\n",
    "# misspelled = spell.unknown(['Nohossat', 'a', 'mangé', 'carote'])\n",
    "\n",
    "# for word in misspelled:\n",
    "    # Get the one `most likely` answer\n",
    "    # print(spell.correction(word))\n",
    "\n",
    "    # Get a list of `likely` options\n",
    "    # print(spell.candidates(word))"
   ]
  },
  {
   "cell_type": "markdown",
   "metadata": {},
   "source": [
    "### 1 - Tokenisation\n",
    "\n",
    "Pour faciliter la compréhension du language naturel par la machine, on doit transformer nos chaînes de caractères en tokens.\n",
    "\n",
    ">**tokens** : mots, ponctuation, symboles\n",
    "\n",
    "La tokenisation basique consiste à séparer le texte par les espaces et la ponctuation. "
   ]
  },
  {
   "cell_type": "code",
   "execution_count": 16,
   "metadata": {},
   "outputs": [],
   "source": [
    "review_tokens = [word_tokenize(review) for review in data.review]"
   ]
  },
  {
   "cell_type": "markdown",
   "metadata": {},
   "source": [
    "### 2 - retrait des stop words"
   ]
  },
  {
   "cell_type": "code",
   "execution_count": 17,
   "metadata": {},
   "outputs": [],
   "source": [
    "def remove_stopwords(commentaire):\n",
    "    # remove stop words from the review\n",
    "    stop_words = get_stop_words('french')  \n",
    "    \n",
    "    # remove stop words, punctuation and words which length is below 2, numbers and none values\n",
    "    commentaire = [word for word in commentaire if word.lower() not in stop_words and word not in string.punctuation and not word.isnumeric() and word.lower() != 'none' and len(word) > 2]\n",
    "    \n",
    "    return ' '.join(commentaire)"
   ]
  },
  {
   "cell_type": "code",
   "execution_count": 18,
   "metadata": {},
   "outputs": [
    {
     "data": {
      "text/plain": [
       "['Exceptionnel Accueil lit confortable choix petit déjeuner',\n",
       " 'bien bonne localisation Personnel agréable Chambre bruyante']"
      ]
     },
     "execution_count": 18,
     "metadata": {},
     "output_type": "execute_result"
    }
   ],
   "source": [
    "cleaned_review_tokens = [remove_stopwords(review) for review in review_tokens]\n",
    "cleaned_review_tokens[:2]"
   ]
  },
  {
   "cell_type": "markdown",
   "metadata": {},
   "source": [
    "### 3 - Lexicon Normalization : Stemming & Lemmatization\n",
    "\n",
    "La normalisation en NLP consiste à conserver la forme canonique des mots du corpus. On peut utiliser deux méthodes : le stemming et la lemmatization. "
   ]
  },
  {
   "cell_type": "markdown",
   "metadata": {},
   "source": [
    "#### Stemming"
   ]
  },
  {
   "cell_type": "markdown",
   "metadata": {},
   "source": [
    "Pour éviter d'inclure les variations d'un mot dans notre corpus (ex: vouloir : veux, voulons, veuille, etc..), on va récuperer le radical du mot."
   ]
  },
  {
   "cell_type": "code",
   "execution_count": 19,
   "metadata": {},
   "outputs": [],
   "source": [
    "def stem_review(review):\n",
    "    stem = FrenchStemmer()\n",
    "    review = review.split(' ')\n",
    "    return [stem.stem(word) for word in review]"
   ]
  },
  {
   "cell_type": "code",
   "execution_count": 20,
   "metadata": {},
   "outputs": [],
   "source": [
    "normalized_tokens = [stem_review(review) for review in cleaned_review_tokens]"
   ]
  },
  {
   "cell_type": "code",
   "execution_count": 21,
   "metadata": {},
   "outputs": [
    {
     "data": {
      "text/plain": [
       "['séjour', 'reviendron', 'chambr', 'petit', 'calm', 'paris']"
      ]
     },
     "execution_count": 21,
     "metadata": {},
     "output_type": "execute_result"
    }
   ],
   "source": [
    "normalized_tokens[3]"
   ]
  },
  {
   "cell_type": "markdown",
   "metadata": {},
   "source": [
    "#### Lemmatization"
   ]
  },
  {
   "cell_type": "markdown",
   "metadata": {},
   "source": [
    "La lemmatization consiste à analyser le mot selon le contexte d'utilisation et le remplacer par une forme normalisée.\n",
    "\n",
    "On détermine le contexte d'utilisation grâce à l'étiquetage morpho-syntaxique (Part-Of-Speech - POS Tagging ): on essaye d'attribuer une étiquette à chaque mot correspondant à sa fonctionnalité grammaticale dans la phrase (nom propre, adjectif, etc...)"
   ]
  },
  {
   "cell_type": "code",
   "execution_count": 22,
   "metadata": {},
   "outputs": [
    {
     "data": {
      "text/plain": [
       "'agréable Accueil chaleureux pro bien situé Proche Gare Montparnasse 10mn pied recommande chambre côté rue bruit cadre sympathique proche restaurants magasins'"
      ]
     },
     "execution_count": 22,
     "metadata": {},
     "output_type": "execute_result"
    }
   ],
   "source": [
    "cleaned_review_tokens[2]"
   ]
  },
  {
   "cell_type": "code",
   "execution_count": 23,
   "metadata": {},
   "outputs": [],
   "source": [
    "def get_POS(review):\n",
    "    review = review.split(' ')\n",
    "    review = list(filter(None, review))\n",
    "    return pos_tag(review)"
   ]
  },
  {
   "cell_type": "code",
   "execution_count": 24,
   "metadata": {},
   "outputs": [],
   "source": [
    "# pos tag only work if all the element inside the list aren't empty\n",
    "tokens_with_pos = [get_POS(review) for review in cleaned_review_tokens]"
   ]
  },
  {
   "cell_type": "code",
   "execution_count": 25,
   "metadata": {},
   "outputs": [
    {
     "data": {
      "text/plain": [
       "[('séjour', 'JJ'),\n",
       " ('reviendrons', 'NNS'),\n",
       " ('chambre', 'VBP'),\n",
       " ('petite', 'JJ'),\n",
       " ('calme', 'NN'),\n",
       " ('Paris', 'NNP')]"
      ]
     },
     "execution_count": 25,
     "metadata": {},
     "output_type": "execute_result"
    }
   ],
   "source": [
    "tokens_with_pos[3]"
   ]
  },
  {
   "cell_type": "code",
   "execution_count": 26,
   "metadata": {},
   "outputs": [],
   "source": [
    "# how to lemmatize French TEXT ??? we are going to use spacy"
   ]
  },
  {
   "cell_type": "code",
   "execution_count": 27,
   "metadata": {},
   "outputs": [],
   "source": [
    "# import spacy\n",
    "# nlp = spacy.load('fr_core_news_md') # we have to load the this file first, we will see later\n",
    "\n",
    "# doc = nlp(u\"Exceptionnel Accueil lit confortable choix petit déjeuner\")\n",
    "# for token in doc:\n",
    "    # print(token, token.lemma_)"
   ]
  },
  {
   "cell_type": "markdown",
   "metadata": {},
   "source": [
    ">On obtient les tokens nettoyés et normalisés par commentaire."
   ]
  },
  {
   "cell_type": "markdown",
   "metadata": {},
   "source": [
    "## Frequency and Word Count"
   ]
  },
  {
   "cell_type": "markdown",
   "metadata": {},
   "source": [
    "Pour observer la fréquence des mots, on va utiliser le corpus **cleaned_review_tokens** qui ne comprend pas la normalization et donc nous permet de voir les mots dans leur forme entière."
   ]
  },
  {
   "cell_type": "code",
   "execution_count": 28,
   "metadata": {
    "jupyter": {
     "source_hidden": true
    }
   },
   "outputs": [],
   "source": [
    "# we need to get all words\n",
    "all_words = np.array(cleaned_review_tokens).flatten()\n",
    "all_words = ' '.join(all_words).split() \n",
    "\n",
    "#calculer les 100 mots les plus fréquents\n",
    "nb = 100\n",
    "word_dist = nltk.FreqDist(all_words)"
   ]
  },
  {
   "cell_type": "code",
   "execution_count": 29,
   "metadata": {
    "jupyter": {
     "source_hidden": true
    }
   },
   "outputs": [
    {
     "data": {
      "text/html": [
       "<div>\n",
       "<style scoped>\n",
       "    .dataframe tbody tr th:only-of-type {\n",
       "        vertical-align: middle;\n",
       "    }\n",
       "\n",
       "    .dataframe tbody tr th {\n",
       "        vertical-align: top;\n",
       "    }\n",
       "\n",
       "    .dataframe thead th {\n",
       "        text-align: right;\n",
       "    }\n",
       "</style>\n",
       "<table border=\"1\" class=\"dataframe\">\n",
       "  <thead>\n",
       "    <tr style=\"text-align: right;\">\n",
       "      <th></th>\n",
       "      <th>Word</th>\n",
       "      <th>Frequency</th>\n",
       "    </tr>\n",
       "  </thead>\n",
       "  <tbody>\n",
       "    <tr>\n",
       "      <th>0</th>\n",
       "      <td>chambre</td>\n",
       "      <td>15003</td>\n",
       "    </tr>\n",
       "    <tr>\n",
       "      <th>1</th>\n",
       "      <td>bien</td>\n",
       "      <td>14867</td>\n",
       "    </tr>\n",
       "    <tr>\n",
       "      <th>2</th>\n",
       "      <td>petit</td>\n",
       "      <td>10000</td>\n",
       "    </tr>\n",
       "    <tr>\n",
       "      <th>3</th>\n",
       "      <td>Bien</td>\n",
       "      <td>9456</td>\n",
       "    </tr>\n",
       "    <tr>\n",
       "      <th>4</th>\n",
       "      <td>personnel</td>\n",
       "      <td>9061</td>\n",
       "    </tr>\n",
       "    <tr>\n",
       "      <th>5</th>\n",
       "      <td>déjeuner</td>\n",
       "      <td>8772</td>\n",
       "    </tr>\n",
       "    <tr>\n",
       "      <th>6</th>\n",
       "      <td>client</td>\n",
       "      <td>7776</td>\n",
       "    </tr>\n",
       "  </tbody>\n",
       "</table>\n",
       "</div>"
      ],
      "text/plain": [
       "        Word  Frequency\n",
       "0    chambre      15003\n",
       "1       bien      14867\n",
       "2      petit      10000\n",
       "3       Bien       9456\n",
       "4  personnel       9061\n",
       "5   déjeuner       8772\n",
       "6     client       7776"
      ]
     },
     "execution_count": 29,
     "metadata": {},
     "output_type": "execute_result"
    }
   ],
   "source": [
    "#affichage dans un dataframe des 7 mots les plus fréquents\n",
    "word_frequency = pd.DataFrame(word_dist.most_common(nb), columns=['Word', 'Frequency'])\n",
    "most_frequent = word_frequency.head(7)\n",
    "most_frequent"
   ]
  },
  {
   "cell_type": "code",
   "execution_count": 30,
   "metadata": {
    "jupyter": {
     "source_hidden": true
    }
   },
   "outputs": [
    {
     "data": {
      "text/plain": [
       "<matplotlib.axes._subplots.AxesSubplot at 0x1a3283e4d0>"
      ]
     },
     "execution_count": 30,
     "metadata": {},
     "output_type": "execute_result"
    },
    {
     "data": {
      "image/png": "[encoded data removed]",
      "text/plain": [
       "<Figure size 1440x720 with 1 Axes>"
      ]
     },
     "metadata": {
      "needs_background": "light"
     },
     "output_type": "display_data"
    }
   ],
   "source": [
    "#histogramme des 7 mots les plus fréquents\n",
    "plt.figure(figsize=(20,10))\n",
    "sns.set_style(\"whitegrid\")\n",
    "sns.barplot(x=\"Word\",y=\"Frequency\", data=most_frequent)"
   ]
  },
  {
   "cell_type": "code",
   "execution_count": 31,
   "metadata": {
    "jupyter": {
     "source_hidden": true
    }
   },
   "outputs": [],
   "source": [
    "#fonction pour générer un nuage de mots\n",
    "def wcloud(data,bgcolor,title):\n",
    "    plt.figure(figsize = (100,100))\n",
    "    wc = WordCloud(background_color = bgcolor, max_words = 1000,  max_font_size = 50)\n",
    "    wc.generate(' '.join(data))\n",
    "    plt.imshow(wc)\n",
    "    plt.axis('off')"
   ]
  },
  {
   "cell_type": "code",
   "execution_count": 32,
   "metadata": {
    "jupyter": {
     "source_hidden": true
    }
   },
   "outputs": [
    {
     "data": {
      "image/png": "[encoded data removed]",
      "text/plain": [
       "<Figure size 7200x7200 with 1 Axes>"
      ]
     },
     "metadata": {},
     "output_type": "display_data"
    }
   ],
   "source": [
    "wcloud(all_words,'black','Common Words')"
   ]
  },
  {
   "cell_type": "markdown",
   "metadata": {},
   "source": [
    "## Analyse de sentiments"
   ]
  },
  {
   "cell_type": "markdown",
   "metadata": {},
   "source": [
    "Sentiment analysis is a process of identifying an attitude of the author on a topic that is being written about.\n",
    "\n",
    "You will create a training data set to train a model. It is a supervised learning machine learning process, which requires you to associate each dataset with a “sentiment” for training. In this tutorial, your model will use the “positive” and “negative” sentiments."
   ]
  },
  {
   "cell_type": "markdown",
   "metadata": {},
   "source": [
    "### Première approche : Utilisation de la note Client"
   ]
  },
  {
   "cell_type": "markdown",
   "metadata": {},
   "source": [
    "Avec les notes Booking, on va faire la répartition suivante : \n",
    "\n",
    "0 => 4 : négatif  \n",
    "5 : neutre  \n",
    "sup 5 : positif  \n",
    "\n",
    "Mais je pense qu'il va falloir faire du binaire"
   ]
  },
  {
   "cell_type": "markdown",
   "metadata": {},
   "source": [
    "#### Dataset 1"
   ]
  },
  {
   "cell_type": "code",
   "execution_count": 33,
   "metadata": {},
   "outputs": [],
   "source": [
    "X = np.array([' '.join(review) for review in normalized_tokens])"
   ]
  },
  {
   "cell_type": "code",
   "execution_count": 34,
   "metadata": {},
   "outputs": [
    {
     "data": {
      "text/plain": [
       "array([1., 0.])"
      ]
     },
     "execution_count": 34,
     "metadata": {},
     "output_type": "execute_result"
    }
   ],
   "source": [
    "notes_booking = data.note.copy()\n",
    "notes_booking.loc[notes_booking < 5] = 0\n",
    "notes_booking.loc[notes_booking >= 5] = 1\n",
    "notes_booking.unique()"
   ]
  },
  {
   "cell_type": "code",
   "execution_count": 44,
   "metadata": {},
   "outputs": [],
   "source": [
    "# récupération du dataset pour l'inclure à l'application Flask\n",
    "dataset_final = pd.DataFrame(data= {'sentiment' : X, 'polarite' : notes_booking})\n",
    "dataset_final.to_csv('dataset_booking_model.csv', index=False)"
   ]
  },
  {
   "cell_type": "markdown",
   "metadata": {},
   "source": [
    "### Deuxième approche : Calcul de la polarité"
   ]
  },
  {
   "cell_type": "markdown",
   "metadata": {},
   "source": [
    "On va utiliser le Pattern Analyzer de textBlob pour déterminer la polarité d'un commentaire\n",
    "\n",
    "Une polarité de : \n",
    "* \\- 1 : commentaire négatif\n",
    "* 0 : commentaire neutre\n",
    "* 1 : commentaire positif"
   ]
  },
  {
   "cell_type": "code",
   "execution_count": 35,
   "metadata": {},
   "outputs": [],
   "source": [
    "# sentiment renvoie un tuple avec la polarité et la subjectivite, on veut récuperer juste la première valeur\n",
    "polarite = [TextBlob(' '.join(review), analyzer=PatternAnalyzer()).sentiment[0] for review in normalized_tokens]\n",
    "# polarite[0]"
   ]
  },
  {
   "cell_type": "markdown",
   "metadata": {},
   "source": [
    "#### Dataset 2"
   ]
  },
  {
   "cell_type": "code",
   "execution_count": 36,
   "metadata": {},
   "outputs": [],
   "source": [
    "target_polarite = np.array(polarite).reshape(-1, 1)"
   ]
  },
  {
   "cell_type": "markdown",
   "metadata": {},
   "source": [
    ">est-ce que la polarité calculée et les notes sont corrélées ?\n",
    "si oui, on peut utiliser la note booking comme target par exemple"
   ]
  },
  {
   "cell_type": "markdown",
   "metadata": {},
   "source": [
    "### Corrélation entre les notes Booking et la polarité calculée"
   ]
  },
  {
   "cell_type": "code",
   "execution_count": 37,
   "metadata": {},
   "outputs": [
    {
     "data": {
      "text/plain": [
       "<matplotlib.axes._subplots.AxesSubplot at 0x1a3a6135d0>"
      ]
     },
     "execution_count": 37,
     "metadata": {},
     "output_type": "execute_result"
    },
    {
     "data": {
      "image/png": "[encoded data removed]",
      "text/plain": [
       "<Figure size 432x432 with 2 Axes>"
      ]
     },
     "metadata": {},
     "output_type": "display_data"
    }
   ],
   "source": [
    "d = {'polarite': polarite, 'note': notes_booking.values}\n",
    "polarites = pd.DataFrame(data=d)\n",
    "\n",
    "df_corr = polarites.corr()\n",
    "sns.heatmap(df_corr, annot=True)"
   ]
  },
  {
   "cell_type": "markdown",
   "metadata": {},
   "source": [
    ">Soit il y a un problème de calcul dans la polarité soit les valeurs ne sont vraiment pas corrélées. \n",
    "Il va donc falloir tester les modèles sur les deux targets pour voir avec quelle target on a les meilleurs résultats"
   ]
  },
  {
   "cell_type": "markdown",
   "metadata": {},
   "source": [
    "## Analyse comparative des modèles de classification"
   ]
  },
  {
   "cell_type": "markdown",
   "metadata": {},
   "source": [
    "On va tester plusieurs modèles pour voir celui qui nous sort les meilleurs résultats : \n",
    "   - Régression logistique\n",
    "   - Multinomial Naive Bayes\n",
    "   - Méthodes ensemblistes : Random Forest, Ada Boost, Gradient Boosting, XGBoost\n",
    "   - SVM"
   ]
  },
  {
   "cell_type": "markdown",
   "metadata": {},
   "source": [
    "### Modélisation avec les notes Booking"
   ]
  },
  {
   "cell_type": "code",
   "execution_count": 38,
   "metadata": {},
   "outputs": [],
   "source": [
    "# split avec les notes booking\n",
    "X_train, X_test, y_train, y_test = train_test_split(X, notes_booking, test_size=0.2, random_state=0)\n",
    "\n",
    "# split avec les notes manuelles\n",
    "#X_train, X_test, y_train, y_test = train_test_split(X, target_polarite, test_size=0.2, random_state=0)"
   ]
  },
  {
   "cell_type": "markdown",
   "metadata": {},
   "source": [
    "### Feature Transformation - A TERMINER\n",
    "\n",
    "Il faut transformer nos features en données numériques pour qu'elles soient acceptées par les différents modèles que l'on souhaite tester.\n",
    "\n",
    "Il y a plusieurs méthodes que l'on peut utiliser: \n",
    "\n",
    "#### Count Vectorizer\n",
    "\n",
    "#### Tf-idf Transformer\n",
    "\n",
    "#### N-gram\n",
    "\n",
    "#### Truncated SVD\n",
    "\n",
    "CountVectorizer de Scikit-learn est utilisé pour transformer un corpus de mots en vecteurs/occurence des mots \n",
    "\n",
    "- obtenir l'occurence des mots dans chaque review (Count Vectorizer) - A BIEN EXPLIQUER\n",
    "- TFIDTransformer : The goal of using tf-idf instead of the raw frequencies of occurrence of a token in a given document is to scale down the impact of tokens that occur very frequently in a given corpus and that are hence empirically less informative than features that occur in a small fraction of the training corpus.\n"
   ]
  },
  {
   "cell_type": "code",
   "execution_count": 39,
   "metadata": {},
   "outputs": [],
   "source": [
    "train_data = []"
   ]
  },
  {
   "cell_type": "code",
   "execution_count": 40,
   "metadata": {},
   "outputs": [],
   "source": [
    "# CountVectorizer + Tf-idf\n",
    "pipe_tfidf = make_pipeline(CountVectorizer(), TfidfTransformer())\n",
    "X_train_tfidf = pipe_tfidf.fit_transform(X_train).toarray()\n",
    "train_data.append(X_train_tfidf)"
   ]
  },
  {
   "cell_type": "code",
   "execution_count": 41,
   "metadata": {},
   "outputs": [],
   "source": [
    "# CountVectorizer + N-gram\n",
    "pipe_ngram = make_pipeline(CountVectorizer(ngram_range=(1, 2)), TfidfTransformer())\n",
    "X_train_ngram = pipe_ngram.fit_transform(X_train).toarray()\n",
    "train_data.append(X_train_ngram)"
   ]
  },
  {
   "cell_type": "code",
   "execution_count": 42,
   "metadata": {},
   "outputs": [],
   "source": [
    "# CountVectorizer + Tf-idf Truncated SVD\n",
    "pipe_svd_tfidf = make_pipeline(CountVectorizer(), TfidfTransformer(), TruncatedSVD(n_components=300))\n",
    "X_train_svd = pipe_svd_tfidf.fit_transform(X_train)\n",
    "train_data.append(X_train_svd)"
   ]
  },
  {
   "cell_type": "markdown",
   "metadata": {},
   "source": [
    "### Fonction de modélisation"
   ]
  },
  {
   "cell_type": "code",
   "execution_count": 48,
   "metadata": {
    "jupyter": {
     "source_hidden": true
    }
   },
   "outputs": [],
   "source": [
    "def run_model(model, X_train, y_train, target_name, params=None, random_state=None):\n",
    "    # measures the time taken by the model to run\n",
    "    start_time = time.time()\n",
    "    \n",
    "    # run a grid search if params set\n",
    "    if params :\n",
    "        clf = GridSearchCV(model(), params, cv = 5)\n",
    "    else :\n",
    "        if random_state:\n",
    "            clf = model(random_state=random_state)\n",
    "        else:\n",
    "            clf = model()\n",
    "        best_params = None\n",
    "    \n",
    "    clf.fit(X_train, y_train)\n",
    "    \n",
    "    if params:\n",
    "         best_params = clf.best_params_\n",
    "            \n",
    "    y_pred = clf.predict(X_train)\n",
    "    \n",
    "    # we will record some metrics in a CSV file for presentation\n",
    "    accuracy = accuracy_score(y_train, y_pred)\n",
    "    endtime = time.time() - start_time\n",
    "    \n",
    "    results = [[accuracy, best_params, endtime, target_name]]\n",
    "    \n",
    "    # save to csv\n",
    "    cols = ['accuracy', 'best paramaters', 'duration', 'target']\n",
    "    \n",
    "    try:\n",
    "        backup = pd.read_csv('booking_models_metrics.csv')\n",
    "    except:\n",
    "        backup = pd.DataFrame([], columns=cols)\n",
    "    \n",
    "    model_metrics = pd.DataFrame(results, columns=cols)\n",
    "    \n",
    "    backup = pd.concat([backup, model_metrics])\n",
    "    backup.to_csv('booking_models_metrics.csv')\n",
    "    \n",
    "    return backup"
   ]
  },
  {
   "cell_type": "markdown",
   "metadata": {},
   "source": [
    ">On s'est arreté avant de runner les modeles"
   ]
  },
  {
   "cell_type": "code",
   "execution_count": null,
   "metadata": {},
   "outputs": [],
   "source": [
    "run_model(BernoulliNB, X_train, y_train, 'note_booking')"
   ]
  },
  {
   "cell_type": "code",
   "execution_count": null,
   "metadata": {},
   "outputs": [],
   "source": [
    "run_model(MultinomialNB, feat_train, y_train, 'note_booking', params={'alpha' : [0, 1, 5, 10]})"
   ]
  },
  {
   "cell_type": "code",
   "execution_count": null,
   "metadata": {},
   "outputs": [],
   "source": [
    "run_model(LogisticRegression, feat_train, y_train, 'note_booking', random_state=0)"
   ]
  },
  {
   "cell_type": "code",
   "execution_count": null,
   "metadata": {},
   "outputs": [],
   "source": [
    "param_rf = { 'n_estimators' : [50, 100, 300]}\n",
    "\n",
    "run_model(GradientBoostingClassifier, feat_train, y_train, 'note_booking', params=param_rf, random_state=0)"
   ]
  },
  {
   "cell_type": "code",
   "execution_count": null,
   "metadata": {},
   "outputs": [],
   "source": [
    "param_rf = { 'max_depth' : [40, 60],\n",
    "             'n_estimators' : [50, 200]}\n",
    "\n",
    "run_model(RandomForestClassifier, feat_train, y_train, 'note_booking', params=param_rf, random_state=0)"
   ]
  },
  {
   "cell_type": "code",
   "execution_count": null,
   "metadata": {},
   "outputs": [],
   "source": [
    "run_model(XGBClassifier, feat_train, y_train, 'note_booking', params=param_svm, random_state=0)"
   ]
  },
  {
   "cell_type": "code",
   "execution_count": null,
   "metadata": {},
   "outputs": [],
   "source": [
    "param_svm = { 'C': [10,100],\n",
    "              'gamma': [1, 0.1, 0.0001],\n",
    "              'kernel': ['rbf','sigmoid', 'poly']}\n",
    "\n",
    "run_model(SVC, feat_train, y_train, 'note_booking', params=param_svm, random_state=0)"
   ]
  },
  {
   "cell_type": "code",
   "execution_count": null,
   "metadata": {},
   "outputs": [],
   "source": [
    "param_ada = { 'base_estimator' : [MultinomialNB, SVC],\n",
    "              'n_estimators' : [50, 100, 200]}\n",
    "\n",
    "run_model(AdaBoostClassifier, feat_train, y_train, 'note_booking', params=param_ada, random_state=0)"
   ]
  },
  {
   "cell_type": "markdown",
   "metadata": {},
   "source": [
    "## Feature importance"
   ]
  },
  {
   "cell_type": "markdown",
   "metadata": {},
   "source": [
    "Voir si on peut l'obtenir pour les modèles ensemblistes"
   ]
  },
  {
   "cell_type": "markdown",
   "metadata": {},
   "source": [
    "## Limits to the model\n",
    "\n",
    "In this step you built and tested the model. You also explored some of its limitations, such as not detecting sarcasm in particular examples. Your completed code still has artifacts leftover from following the tutorial, so the next step will guide you through aligning the code to Python’s best practices."
   ]
  }
 ],
 "metadata": {
  "kernelspec": {
   "display_name": "Python 3",
   "language": "python",
   "name": "python3"
  },
  "language_info": {
   "codemirror_mode": {
    "name": "ipython",
    "version": 3
   },
   "file_extension": ".py",
   "mimetype": "text/x-python",
   "name": "python",
   "nbconvert_exporter": "python",
   "pygments_lexer": "ipython3",
   "version": "3.7.7"
  }
 },
 "nbformat": 4,
 "nbformat_minor": 4
}

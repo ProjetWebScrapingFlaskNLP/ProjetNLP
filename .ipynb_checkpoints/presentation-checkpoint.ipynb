{
 "cells": [
  {
   "cell_type": "markdown",
   "metadata": {},
   "source": [
    "# Projet NLP - Groupe 1 - Nohossat, Valérie, Williams"
   ]
  },
  {
   "cell_type": "markdown",
   "metadata": {},
   "source": [
    "## Consignes\n",
    "\n",
    "Vous venez d'ouvrir un hôtel. Comme vous n'êtes pas sûr de la qualité de votre établissement, vous permettez aux personnes de poster des commentaires mais pas de mettre de note. Cependant, vous voulez quand même déterminer si le commentaire est positif ou négatif.  \n",
    "\n",
    "Pour cela, vous allez scrapper des commentaires sur booking et leur note associée afin de faire tourner un algorithme de classification pour faire des prédictions sur vos propres commentaires."
   ]
  },
  {
   "cell_type": "markdown",
   "metadata": {},
   "source": [
    "## 1 - Récuperation des données"
   ]
  },
  {
   "cell_type": "markdown",
   "metadata": {},
   "source": [
    "Site de référence : https://www.booking.com\n",
    "\n",
    "### Contraintes du scraping\n",
    "\n",
    "On a récupéré les commentaires des hôtels de plusieurs villes françaises telles que **Paris, Marseille, Lyon, etc...**  \n",
    "\n",
    "Booking ne permet pas d'ouvrir la page d'un hôtel dans le même onglet donc on a procédé en 2 temps :\n",
    "\n",
    "- Récupération des liens vers les hôtels avec des commentaires (on ignore ceux qui n'ont aucun commentaire)\n",
    "- Récupération des commentaires pour chaque hôtel présélectionné\n",
    "\n",
    "Cette démarche nous permet de reprendre le scraping en cas de crash puisque les liens vers les hôtels sont sauvegardés avant de passer à la deuxième étape."
   ]
  },
  {
   "cell_type": "markdown",
   "metadata": {},
   "source": [
    "<img width=\"1000px\" src='img/booking.gif' alt='booking_website'>"
   ]
  },
  {
   "cell_type": "markdown",
   "metadata": {},
   "source": [
    "### Données récupérées\n",
    "\n",
    "Pour chaque hôtel, on récupère au maximum 300 commentaires et les informations suivantes:\n",
    "\n",
    "- **NOM** : nom du client ayant laissé le commentaire\n",
    "- **PAYS** : pays de provenance du client\n",
    "- **FAVORITE** : est-ce que le client a marqué l'établissement parmi ces favoris ?\n",
    "- **DATE** : date d'envoi du commentaire\n",
    "- **TITRE** : titre du commentaire laissé par le client\n",
    "- **BONS POINTS** : les aspects positifs de l'expérience\n",
    "- **MAUVAIS POINTS** : les aspects négatifs de l'expérience\n",
    "- **NOTE** : la note laissée par le client\n",
    "- **TYPE ETABLISSEMENT**: le type de l'établissement (Appartement, Hôtel, etc..)\n",
    "- **LIEU** : Ville de l'établissement\n",
    "- **NOTE ETABLISSEMENT** : note moyenne laissée par l'ensemble des commentateurs\n",
    "\n",
    "<img width=\"600px\" src='img/commentaire_booking.png' alt='booking_commentaire'>\n",
    "\n",
    "### Résilience du scraping\n",
    "\n",
    "Plusieurs actions ont été mises en place pour rendre le scraping résilient: \n",
    "\n",
    "- relance de la page en cas d'apparition du pop-up 'Etes-vous humain?'\n",
    "- timeout de 4min pour récupérer les 300 commentaires par hôtel\n",
    "- multiprocessing (1 process par ville)\n",
    "- backup après chaque commentaire récupéré\n",
    "\n",
    "### Limites\n",
    "\n",
    "Lors du preprocessing, on s'est rendu compte qu'il y avait une prédominance des commentaires positifs. Le scraping a donc du être réalisé une deuxième fois pour récupérer seulement les commentaires négatifs.\n",
    "\n",
    "\n",
    "### Résultats"
   ]
  },
  {
   "cell_type": "code",
   "execution_count": 1,
   "metadata": {
    "jupyter": {
     "source_hidden": true
    }
   },
   "outputs": [
    {
     "name": "stdout",
     "output_type": "stream",
     "text": [
      "Récupération de 50814 commentaires\n"
     ]
    }
   ],
   "source": [
    "print('Récupération de 50814 commentaires')"
   ]
  },
  {
   "cell_type": "markdown",
   "metadata": {},
   "source": [
    "## 2 - Analyse des données"
   ]
  },
  {
   "cell_type": "code",
   "execution_count": 2,
   "metadata": {
    "collapsed": true,
    "jupyter": {
     "outputs_hidden": true
    }
   },
   "outputs": [
    {
     "name": "stderr",
     "output_type": "stream",
     "text": [
      "[nltk_data] Downloading package punkt to /Users/nohossat/nltk_data...\n",
      "[nltk_data]   Package punkt is already up-to-date!\n",
      "[nltk_data] Downloading package averaged_perceptron_tagger to\n",
      "[nltk_data]     /Users/nohossat/nltk_data...\n",
      "[nltk_data]   Package averaged_perceptron_tagger is already up-to-\n",
      "[nltk_data]       date!\n"
     ]
    }
   ],
   "source": [
    "import pandas as pd\n",
    "import numpy as np\n",
    "import matplotlib.pyplot as plt\n",
    "import seaborn as sns\n",
    "import time\n",
    "import nltk\n",
    "import re\n",
    "from nltk.tokenize import word_tokenize\n",
    "from nltk.tag import pos_tag\n",
    "from french_lefff_lemmatizer.french_lefff_lemmatizer import FrenchLefffLemmatizer\n",
    "from nltk.stem.snowball import FrenchStemmer\n",
    "from stop_words import get_stop_words\n",
    "import string\n",
    "from wordcloud import WordCloud\n",
    "from textblob import TextBlob\n",
    "from textblob_fr import PatternTagger, PatternAnalyzer\n",
    "from sklearn.model_selection import train_test_split, GridSearchCV, cross_val_score\n",
    "from sklearn.pipeline import make_pipeline, Pipeline, FeatureUnion\n",
    "from sklearn.feature_extraction.text import TfidfTransformer, CountVectorizer, TfidfVectorizer\n",
    "from sklearn.linear_model import LogisticRegression\n",
    "from sklearn.naive_bayes import ComplementNB, MultinomialNB\n",
    "from sklearn.svm import SVC\n",
    "from sklearn.ensemble import RandomForestClassifier, GradientBoostingClassifier, AdaBoostClassifier\n",
    "from sklearn.decomposition import TruncatedSVD\n",
    "from xgboost.sklearn import XGBClassifier\n",
    "from sklearn.metrics import precision_score, recall_score, f1_score, confusion_matrix, accuracy_score, auc\n",
    "from shutil import rmtree\n",
    "\n",
    "# plt.rcParams['text.color'] = 'black'\n",
    "plt.rcParams[\"font.size\"] = 18\n",
    "plt.rcParams[\"figure.figsize\"] = [6, 6]\n",
    "# needed for tokenization\n",
    "nltk.download('punkt')\n",
    "nltk.download('averaged_perceptron_tagger')\n",
    "# You need the averaged_perceptron_tagger resource to determine the context of a word in a sentence.\n",
    "\n",
    "import warnings\n",
    "warnings.filterwarnings(\"ignore\", category=DeprecationWarning)"
   ]
  },
  {
   "cell_type": "code",
   "execution_count": 3,
   "metadata": {
    "jupyter": {
     "source_hidden": true
    }
   },
   "outputs": [],
   "source": [
    "df = pd.read_csv(\"booking_comments.csv\", na_values=['None', 'none'], decimal=',', encoding=\"utf8\", escapechar='\\\\')"
   ]
  },
  {
   "cell_type": "code",
   "execution_count": 4,
   "metadata": {
    "jupyter": {
     "source_hidden": true
    }
   },
   "outputs": [
    {
     "data": {
      "text/html": [
       "<div>\n",
       "<style scoped>\n",
       "    .dataframe tbody tr th:only-of-type {\n",
       "        vertical-align: middle;\n",
       "    }\n",
       "\n",
       "    .dataframe tbody tr th {\n",
       "        vertical-align: top;\n",
       "    }\n",
       "\n",
       "    .dataframe thead th {\n",
       "        text-align: right;\n",
       "    }\n",
       "</style>\n",
       "<table border=\"1\" class=\"dataframe\">\n",
       "  <thead>\n",
       "    <tr style=\"text-align: right;\">\n",
       "      <th></th>\n",
       "      <th>nom</th>\n",
       "      <th>pays</th>\n",
       "      <th>favorite</th>\n",
       "      <th>date</th>\n",
       "      <th>titre</th>\n",
       "      <th>bons_points</th>\n",
       "      <th>mauvais_points</th>\n",
       "      <th>note</th>\n",
       "      <th>type_etablissement</th>\n",
       "      <th>lieu</th>\n",
       "      <th>note_etablissement</th>\n",
       "    </tr>\n",
       "  </thead>\n",
       "  <tbody>\n",
       "    <tr>\n",
       "      <th>0</th>\n",
       "      <td>NaN</td>\n",
       "      <td>NaN</td>\n",
       "      <td>0.0</td>\n",
       "      <td>NaN</td>\n",
       "      <td>NaN</td>\n",
       "      <td>NaN</td>\n",
       "      <td>NaN</td>\n",
       "      <td>NaN</td>\n",
       "      <td>Hôtel</td>\n",
       "      <td>Paris</td>\n",
       "      <td>8.2</td>\n",
       "    </tr>\n",
       "    <tr>\n",
       "      <th>1</th>\n",
       "      <td>Guillaume</td>\n",
       "      <td>France</td>\n",
       "      <td>0.0</td>\n",
       "      <td>2019-06-21 00:00:00</td>\n",
       "      <td>Superbe</td>\n",
       "      <td>Ce client n'a pas laissé de commentaire.</td>\n",
       "      <td>NaN</td>\n",
       "      <td>8.8</td>\n",
       "      <td>Hôtel</td>\n",
       "      <td>Cannes</td>\n",
       "      <td>7.1</td>\n",
       "    </tr>\n",
       "    <tr>\n",
       "      <th>2</th>\n",
       "      <td>Isabelle</td>\n",
       "      <td>France</td>\n",
       "      <td>0</td>\n",
       "      <td>2019-09-09 00:00:00</td>\n",
       "      <td>Déçu par rapport aux descriptifs je ne recomma...</td>\n",
       "      <td>petit déjeuner très peu de choix et servis jus...</td>\n",
       "      <td>Dans la chambre un éclairage plus tamisé,dans ...</td>\n",
       "      <td>5.0</td>\n",
       "      <td>Hôtel</td>\n",
       "      <td>Nantes</td>\n",
       "      <td>8.0</td>\n",
       "    </tr>\n",
       "    <tr>\n",
       "      <th>3</th>\n",
       "      <td>Laura</td>\n",
       "      <td>France</td>\n",
       "      <td>0.0</td>\n",
       "      <td>2019-03-01 00:00:00</td>\n",
       "      <td>Bien</td>\n",
       "      <td>Ce client n'a pas laissé de commentaire.</td>\n",
       "      <td>NaN</td>\n",
       "      <td>7.9</td>\n",
       "      <td>Appart'hôtel</td>\n",
       "      <td>Cannes</td>\n",
       "      <td>6.6</td>\n",
       "    </tr>\n",
       "    <tr>\n",
       "      <th>4</th>\n",
       "      <td>Anonyme</td>\n",
       "      <td>France</td>\n",
       "      <td>0.0</td>\n",
       "      <td>2019-06-07 00:00:00</td>\n",
       "      <td>Bien</td>\n",
       "      <td>La baignoire sur pieds dans la chambre.. comme...</td>\n",
       "      <td>Le rapport qualité/prix.. Mais bon Paris est P...</td>\n",
       "      <td>7.0</td>\n",
       "      <td>Hôtel</td>\n",
       "      <td>Paris</td>\n",
       "      <td>7.6</td>\n",
       "    </tr>\n",
       "  </tbody>\n",
       "</table>\n",
       "</div>"
      ],
      "text/plain": [
       "         nom    pays favorite                 date  \\\n",
       "0        NaN     NaN      0.0                  NaN   \n",
       "1  Guillaume  France      0.0  2019-06-21 00:00:00   \n",
       "2   Isabelle  France        0  2019-09-09 00:00:00   \n",
       "3      Laura  France      0.0  2019-03-01 00:00:00   \n",
       "4    Anonyme  France      0.0  2019-06-07 00:00:00   \n",
       "\n",
       "                                               titre  \\\n",
       "0                                                NaN   \n",
       "1                                            Superbe   \n",
       "2  Déçu par rapport aux descriptifs je ne recomma...   \n",
       "3                                              Bien    \n",
       "4                                              Bien    \n",
       "\n",
       "                                         bons_points  \\\n",
       "0                                                NaN   \n",
       "1           Ce client n'a pas laissé de commentaire.   \n",
       "2  petit déjeuner très peu de choix et servis jus...   \n",
       "3           Ce client n'a pas laissé de commentaire.   \n",
       "4  La baignoire sur pieds dans la chambre.. comme...   \n",
       "\n",
       "                                      mauvais_points  note type_etablissement  \\\n",
       "0                                                NaN   NaN              Hôtel   \n",
       "1                                                NaN   8.8              Hôtel   \n",
       "2  Dans la chambre un éclairage plus tamisé,dans ...   5.0              Hôtel   \n",
       "3                                                NaN   7.9       Appart'hôtel   \n",
       "4  Le rapport qualité/prix.. Mais bon Paris est P...   7.0              Hôtel   \n",
       "\n",
       "     lieu  note_etablissement  \n",
       "0   Paris                 8.2  \n",
       "1  Cannes                 7.1  \n",
       "2  Nantes                 8.0  \n",
       "3  Cannes                 6.6  \n",
       "4   Paris                 7.6  "
      ]
     },
     "execution_count": 4,
     "metadata": {},
     "output_type": "execute_result"
    }
   ],
   "source": [
    "df.head(5)"
   ]
  },
  {
   "cell_type": "code",
   "execution_count": 5,
   "metadata": {
    "jupyter": {
     "source_hidden": true
    }
   },
   "outputs": [
    {
     "name": "stdout",
     "output_type": "stream",
     "text": [
      "Le dataset a 50814 lignes et 11 colonnes.\n"
     ]
    }
   ],
   "source": [
    "print(f'Le dataset a {df.shape[0]} lignes et {df.shape[1]} colonnes.')"
   ]
  },
  {
   "cell_type": "markdown",
   "metadata": {},
   "source": [
    "### Statistiques descriptives"
   ]
  },
  {
   "cell_type": "code",
   "execution_count": 6,
   "metadata": {
    "jupyter": {
     "source_hidden": true
    }
   },
   "outputs": [
    {
     "data": {
      "text/html": [
       "<div>\n",
       "<style scoped>\n",
       "    .dataframe tbody tr th:only-of-type {\n",
       "        vertical-align: middle;\n",
       "    }\n",
       "\n",
       "    .dataframe tbody tr th {\n",
       "        vertical-align: top;\n",
       "    }\n",
       "\n",
       "    .dataframe thead th {\n",
       "        text-align: right;\n",
       "    }\n",
       "</style>\n",
       "<table border=\"1\" class=\"dataframe\">\n",
       "  <thead>\n",
       "    <tr style=\"text-align: right;\">\n",
       "      <th></th>\n",
       "      <th>nom</th>\n",
       "      <th>pays</th>\n",
       "      <th>favorite</th>\n",
       "      <th>date</th>\n",
       "      <th>titre</th>\n",
       "      <th>bons_points</th>\n",
       "      <th>mauvais_points</th>\n",
       "      <th>note</th>\n",
       "      <th>type_etablissement</th>\n",
       "      <th>lieu</th>\n",
       "      <th>note_etablissement</th>\n",
       "    </tr>\n",
       "  </thead>\n",
       "  <tbody>\n",
       "    <tr>\n",
       "      <th>count</th>\n",
       "      <td>50070</td>\n",
       "      <td>50007</td>\n",
       "      <td>50786</td>\n",
       "      <td>50071</td>\n",
       "      <td>49958</td>\n",
       "      <td>43726</td>\n",
       "      <td>32214</td>\n",
       "      <td>50064.000000</td>\n",
       "      <td>50814</td>\n",
       "      <td>50814</td>\n",
       "      <td>50814.000000</td>\n",
       "    </tr>\n",
       "    <tr>\n",
       "      <th>unique</th>\n",
       "      <td>9367</td>\n",
       "      <td>143</td>\n",
       "      <td>4</td>\n",
       "      <td>1235</td>\n",
       "      <td>14382</td>\n",
       "      <td>25709</td>\n",
       "      <td>28947</td>\n",
       "      <td>NaN</td>\n",
       "      <td>12</td>\n",
       "      <td>6</td>\n",
       "      <td>NaN</td>\n",
       "    </tr>\n",
       "    <tr>\n",
       "      <th>top</th>\n",
       "      <td>Anonyme</td>\n",
       "      <td>France</td>\n",
       "      <td>0.0</td>\n",
       "      <td>2020-02-16 00:00:00</td>\n",
       "      <td>Passable</td>\n",
       "      <td>Ce client n'a pas laissé de commentaire.</td>\n",
       "      <td>Rien</td>\n",
       "      <td>NaN</td>\n",
       "      <td>Hôtel</td>\n",
       "      <td>Paris</td>\n",
       "      <td>NaN</td>\n",
       "    </tr>\n",
       "    <tr>\n",
       "      <th>freq</th>\n",
       "      <td>5023</td>\n",
       "      <td>43017</td>\n",
       "      <td>29267</td>\n",
       "      <td>204</td>\n",
       "      <td>5547</td>\n",
       "      <td>11838</td>\n",
       "      <td>725</td>\n",
       "      <td>NaN</td>\n",
       "      <td>42688</td>\n",
       "      <td>25396</td>\n",
       "      <td>NaN</td>\n",
       "    </tr>\n",
       "    <tr>\n",
       "      <th>mean</th>\n",
       "      <td>NaN</td>\n",
       "      <td>NaN</td>\n",
       "      <td>NaN</td>\n",
       "      <td>NaN</td>\n",
       "      <td>NaN</td>\n",
       "      <td>NaN</td>\n",
       "      <td>NaN</td>\n",
       "      <td>6.497633</td>\n",
       "      <td>NaN</td>\n",
       "      <td>NaN</td>\n",
       "      <td>7.693083</td>\n",
       "    </tr>\n",
       "    <tr>\n",
       "      <th>std</th>\n",
       "      <td>NaN</td>\n",
       "      <td>NaN</td>\n",
       "      <td>NaN</td>\n",
       "      <td>NaN</td>\n",
       "      <td>NaN</td>\n",
       "      <td>NaN</td>\n",
       "      <td>NaN</td>\n",
       "      <td>2.277708</td>\n",
       "      <td>NaN</td>\n",
       "      <td>NaN</td>\n",
       "      <td>0.908541</td>\n",
       "    </tr>\n",
       "    <tr>\n",
       "      <th>min</th>\n",
       "      <td>NaN</td>\n",
       "      <td>NaN</td>\n",
       "      <td>NaN</td>\n",
       "      <td>NaN</td>\n",
       "      <td>NaN</td>\n",
       "      <td>NaN</td>\n",
       "      <td>NaN</td>\n",
       "      <td>1.000000</td>\n",
       "      <td>NaN</td>\n",
       "      <td>NaN</td>\n",
       "      <td>3.900000</td>\n",
       "    </tr>\n",
       "    <tr>\n",
       "      <th>25%</th>\n",
       "      <td>NaN</td>\n",
       "      <td>NaN</td>\n",
       "      <td>NaN</td>\n",
       "      <td>NaN</td>\n",
       "      <td>NaN</td>\n",
       "      <td>NaN</td>\n",
       "      <td>NaN</td>\n",
       "      <td>4.600000</td>\n",
       "      <td>NaN</td>\n",
       "      <td>NaN</td>\n",
       "      <td>7.200000</td>\n",
       "    </tr>\n",
       "    <tr>\n",
       "      <th>50%</th>\n",
       "      <td>NaN</td>\n",
       "      <td>NaN</td>\n",
       "      <td>NaN</td>\n",
       "      <td>NaN</td>\n",
       "      <td>NaN</td>\n",
       "      <td>NaN</td>\n",
       "      <td>NaN</td>\n",
       "      <td>6.200000</td>\n",
       "      <td>NaN</td>\n",
       "      <td>NaN</td>\n",
       "      <td>7.900000</td>\n",
       "    </tr>\n",
       "    <tr>\n",
       "      <th>75%</th>\n",
       "      <td>NaN</td>\n",
       "      <td>NaN</td>\n",
       "      <td>NaN</td>\n",
       "      <td>NaN</td>\n",
       "      <td>NaN</td>\n",
       "      <td>NaN</td>\n",
       "      <td>NaN</td>\n",
       "      <td>8.800000</td>\n",
       "      <td>NaN</td>\n",
       "      <td>NaN</td>\n",
       "      <td>8.300000</td>\n",
       "    </tr>\n",
       "    <tr>\n",
       "      <th>max</th>\n",
       "      <td>NaN</td>\n",
       "      <td>NaN</td>\n",
       "      <td>NaN</td>\n",
       "      <td>NaN</td>\n",
       "      <td>NaN</td>\n",
       "      <td>NaN</td>\n",
       "      <td>NaN</td>\n",
       "      <td>10.000000</td>\n",
       "      <td>NaN</td>\n",
       "      <td>NaN</td>\n",
       "      <td>9.900000</td>\n",
       "    </tr>\n",
       "  </tbody>\n",
       "</table>\n",
       "</div>"
      ],
      "text/plain": [
       "            nom    pays favorite                 date     titre  \\\n",
       "count     50070   50007    50786                50071     49958   \n",
       "unique     9367     143        4                 1235     14382   \n",
       "top     Anonyme  France      0.0  2020-02-16 00:00:00  Passable   \n",
       "freq       5023   43017    29267                  204      5547   \n",
       "mean        NaN     NaN      NaN                  NaN       NaN   \n",
       "std         NaN     NaN      NaN                  NaN       NaN   \n",
       "min         NaN     NaN      NaN                  NaN       NaN   \n",
       "25%         NaN     NaN      NaN                  NaN       NaN   \n",
       "50%         NaN     NaN      NaN                  NaN       NaN   \n",
       "75%         NaN     NaN      NaN                  NaN       NaN   \n",
       "max         NaN     NaN      NaN                  NaN       NaN   \n",
       "\n",
       "                                     bons_points mauvais_points          note  \\\n",
       "count                                      43726          32214  50064.000000   \n",
       "unique                                     25709          28947           NaN   \n",
       "top     Ce client n'a pas laissé de commentaire.           Rien           NaN   \n",
       "freq                                       11838            725           NaN   \n",
       "mean                                         NaN            NaN      6.497633   \n",
       "std                                          NaN            NaN      2.277708   \n",
       "min                                          NaN            NaN      1.000000   \n",
       "25%                                          NaN            NaN      4.600000   \n",
       "50%                                          NaN            NaN      6.200000   \n",
       "75%                                          NaN            NaN      8.800000   \n",
       "max                                          NaN            NaN     10.000000   \n",
       "\n",
       "       type_etablissement   lieu  note_etablissement  \n",
       "count               50814  50814        50814.000000  \n",
       "unique                 12      6                 NaN  \n",
       "top                 Hôtel  Paris                 NaN  \n",
       "freq                42688  25396                 NaN  \n",
       "mean                  NaN    NaN            7.693083  \n",
       "std                   NaN    NaN            0.908541  \n",
       "min                   NaN    NaN            3.900000  \n",
       "25%                   NaN    NaN            7.200000  \n",
       "50%                   NaN    NaN            7.900000  \n",
       "75%                   NaN    NaN            8.300000  \n",
       "max                   NaN    NaN            9.900000  "
      ]
     },
     "execution_count": 6,
     "metadata": {},
     "output_type": "execute_result"
    }
   ],
   "source": [
    "#statistiques descriptives du dataset\n",
    "df.describe(include='all')"
   ]
  },
  {
   "cell_type": "markdown",
   "metadata": {},
   "source": [
    "## Sélection des variables\n",
    "\n",
    "Notre objectif est de savoir si un commentaire est positif ou négatif.\n",
    "\n",
    "Dans notre analyse, on partira sur 2 hypothèses pour déterminer la polarité des commentaires:  \n",
    "   - calcul de la polarité des commentaires récoltés\n",
    "   - utilisation de la colonne note pour déterminer la polarité (target déjà fourni par Booking)\n",
    "    \n",
    "On conservera donc toutes les variables qui constituent le commentaire final et la note associée.\n",
    "- **TITRE**, \n",
    "- **BONS POINTS**\n",
    "- **MAUVAIS POINTS**\n",
    "- **NOTE**"
   ]
  },
  {
   "cell_type": "code",
   "execution_count": 7,
   "metadata": {
    "jupyter": {
     "source_hidden": true
    }
   },
   "outputs": [
    {
     "data": {
      "text/html": [
       "<div>\n",
       "<style scoped>\n",
       "    .dataframe tbody tr th:only-of-type {\n",
       "        vertical-align: middle;\n",
       "    }\n",
       "\n",
       "    .dataframe tbody tr th {\n",
       "        vertical-align: top;\n",
       "    }\n",
       "\n",
       "    .dataframe thead th {\n",
       "        text-align: right;\n",
       "    }\n",
       "</style>\n",
       "<table border=\"1\" class=\"dataframe\">\n",
       "  <thead>\n",
       "    <tr style=\"text-align: right;\">\n",
       "      <th></th>\n",
       "      <th>titre</th>\n",
       "      <th>bons_points</th>\n",
       "      <th>mauvais_points</th>\n",
       "      <th>note</th>\n",
       "    </tr>\n",
       "  </thead>\n",
       "  <tbody>\n",
       "    <tr>\n",
       "      <th>0</th>\n",
       "      <td>NaN</td>\n",
       "      <td>NaN</td>\n",
       "      <td>NaN</td>\n",
       "      <td>NaN</td>\n",
       "    </tr>\n",
       "    <tr>\n",
       "      <th>1</th>\n",
       "      <td>Superbe</td>\n",
       "      <td>Ce client n'a pas laissé de commentaire.</td>\n",
       "      <td>NaN</td>\n",
       "      <td>8.8</td>\n",
       "    </tr>\n",
       "    <tr>\n",
       "      <th>2</th>\n",
       "      <td>Déçu par rapport aux descriptifs je ne recomma...</td>\n",
       "      <td>petit déjeuner très peu de choix et servis jus...</td>\n",
       "      <td>Dans la chambre un éclairage plus tamisé,dans ...</td>\n",
       "      <td>5.0</td>\n",
       "    </tr>\n",
       "    <tr>\n",
       "      <th>3</th>\n",
       "      <td>Bien</td>\n",
       "      <td>Ce client n'a pas laissé de commentaire.</td>\n",
       "      <td>NaN</td>\n",
       "      <td>7.9</td>\n",
       "    </tr>\n",
       "    <tr>\n",
       "      <th>4</th>\n",
       "      <td>Bien</td>\n",
       "      <td>La baignoire sur pieds dans la chambre.. comme...</td>\n",
       "      <td>Le rapport qualité/prix.. Mais bon Paris est P...</td>\n",
       "      <td>7.0</td>\n",
       "    </tr>\n",
       "  </tbody>\n",
       "</table>\n",
       "</div>"
      ],
      "text/plain": [
       "                                               titre  \\\n",
       "0                                                NaN   \n",
       "1                                            Superbe   \n",
       "2  Déçu par rapport aux descriptifs je ne recomma...   \n",
       "3                                              Bien    \n",
       "4                                              Bien    \n",
       "\n",
       "                                         bons_points  \\\n",
       "0                                                NaN   \n",
       "1           Ce client n'a pas laissé de commentaire.   \n",
       "2  petit déjeuner très peu de choix et servis jus...   \n",
       "3           Ce client n'a pas laissé de commentaire.   \n",
       "4  La baignoire sur pieds dans la chambre.. comme...   \n",
       "\n",
       "                                      mauvais_points  note  \n",
       "0                                                NaN   NaN  \n",
       "1                                                NaN   8.8  \n",
       "2  Dans la chambre un éclairage plus tamisé,dans ...   5.0  \n",
       "3                                                NaN   7.9  \n",
       "4  Le rapport qualité/prix.. Mais bon Paris est P...   7.0  "
      ]
     },
     "execution_count": 7,
     "metadata": {},
     "output_type": "execute_result"
    }
   ],
   "source": [
    "data = df.drop(['nom', 'pays', 'favorite', 'date', 'type_etablissement', 'lieu', 'note_etablissement'], axis= 1)\n",
    "\n",
    "data.head()"
   ]
  },
  {
   "cell_type": "markdown",
   "metadata": {},
   "source": [
    "## Traitement des valeurs manquantes"
   ]
  },
  {
   "cell_type": "code",
   "execution_count": 8,
   "metadata": {
    "jupyter": {
     "source_hidden": true
    }
   },
   "outputs": [
    {
     "data": {
      "text/plain": [
       "titre               856\n",
       "bons_points        7088\n",
       "mauvais_points    18600\n",
       "note                750\n",
       "dtype: int64"
      ]
     },
     "execution_count": 8,
     "metadata": {},
     "output_type": "execute_result"
    }
   ],
   "source": [
    "data.isna().sum()"
   ]
  },
  {
   "cell_type": "code",
   "execution_count": 9,
   "metadata": {},
   "outputs": [
    {
     "data": {
      "text/plain": [
       "titre             0\n",
       "bons_points       0\n",
       "mauvais_points    0\n",
       "note              0\n",
       "dtype: int64"
      ]
     },
     "execution_count": 9,
     "metadata": {},
     "output_type": "execute_result"
    }
   ],
   "source": [
    "# we delete empty rows\n",
    "data = data.dropna(how='all')\n",
    "\n",
    "# we delete the rows where the note is null\n",
    "# since we have 2 hypothesis that we want to test and removing 750 rows over 50k we still have plenty of data\n",
    "data = data.loc[data.note.notna()]\n",
    "\n",
    "# in the titre, bons_points and mauvais points columns we replace nan by empty strings\n",
    "data = data.fillna('')\n",
    "\n",
    "data.isna().sum()"
   ]
  },
  {
   "cell_type": "markdown",
   "metadata": {},
   "source": [
    "On décide aussi de retirer les commentaires générés par Booking "
   ]
  },
  {
   "cell_type": "code",
   "execution_count": 10,
   "metadata": {
    "collapsed": true,
    "jupyter": {
     "outputs_hidden": true
    }
   },
   "outputs": [
    {
     "name": "stderr",
     "output_type": "stream",
     "text": [
      "/opt/anaconda3/lib/python3.7/site-packages/pandas/core/indexing.py:671: SettingWithCopyWarning: \n",
      "A value is trying to be set on a copy of a slice from a DataFrame\n",
      "\n",
      "See the caveats in the documentation: https://pandas.pydata.org/pandas-docs/stable/user_guide/indexing.html#returning-a-view-versus-a-copy\n",
      "  self._setitem_with_indexer(indexer, value)\n"
     ]
    }
   ],
   "source": [
    "# replace automatic comments by booking by empty strings\n",
    "commentaires_booking = [\"Ce commentaire n'apparaît pas car il ne respecte pas notre charte.\", \"Ce client n'a pas laissé de commentaire.\"]\n",
    "data.bons_points.loc[data.bons_points.isin(commentaires_booking)] = ''\n",
    "data.mauvais_points.loc[data.mauvais_points.isin(commentaires_booking)] = ''"
   ]
  },
  {
   "cell_type": "markdown",
   "metadata": {},
   "source": [
    "## Concaténation des colonnes Titre, Bons Points et Mauvais Points"
   ]
  },
  {
   "cell_type": "code",
   "execution_count": 11,
   "metadata": {
    "jupyter": {
     "source_hidden": true
    }
   },
   "outputs": [
    {
     "data": {
      "text/html": [
       "<div>\n",
       "<style scoped>\n",
       "    .dataframe tbody tr th:only-of-type {\n",
       "        vertical-align: middle;\n",
       "    }\n",
       "\n",
       "    .dataframe tbody tr th {\n",
       "        vertical-align: top;\n",
       "    }\n",
       "\n",
       "    .dataframe thead th {\n",
       "        text-align: right;\n",
       "    }\n",
       "</style>\n",
       "<table border=\"1\" class=\"dataframe\">\n",
       "  <thead>\n",
       "    <tr style=\"text-align: right;\">\n",
       "      <th></th>\n",
       "      <th>review</th>\n",
       "      <th>note</th>\n",
       "    </tr>\n",
       "  </thead>\n",
       "  <tbody>\n",
       "    <tr>\n",
       "      <th>1</th>\n",
       "      <td>Superbe</td>\n",
       "      <td>8.8</td>\n",
       "    </tr>\n",
       "    <tr>\n",
       "      <th>2</th>\n",
       "      <td>Déçu par rapport aux descriptifs je ne recomma...</td>\n",
       "      <td>5.0</td>\n",
       "    </tr>\n",
       "    <tr>\n",
       "      <th>3</th>\n",
       "      <td>Bien</td>\n",
       "      <td>7.9</td>\n",
       "    </tr>\n",
       "    <tr>\n",
       "      <th>4</th>\n",
       "      <td>Bien  La baignoire sur pieds dans la chambre.....</td>\n",
       "      <td>7.0</td>\n",
       "    </tr>\n",
       "    <tr>\n",
       "      <th>5</th>\n",
       "      <td>Pas content ! Pas grand-chose !\\nLit assez con...</td>\n",
       "      <td>4.0</td>\n",
       "    </tr>\n",
       "    <tr>\n",
       "      <th>...</th>\n",
       "      <td>...</td>\n",
       "      <td>...</td>\n",
       "    </tr>\n",
       "    <tr>\n",
       "      <th>50808</th>\n",
       "      <td>Bon acceuil, très bon rapport qualité, prix! B...</td>\n",
       "      <td>10.0</td>\n",
       "    </tr>\n",
       "    <tr>\n",
       "      <th>50809</th>\n",
       "      <td>Fabuleux  Hôtel proche de la Gare Montparnasse...</td>\n",
       "      <td>9.2</td>\n",
       "    </tr>\n",
       "    <tr>\n",
       "      <th>50811</th>\n",
       "      <td>Un séjour médiocre La localisation et le perso...</td>\n",
       "      <td>4.0</td>\n",
       "    </tr>\n",
       "    <tr>\n",
       "      <th>50812</th>\n",
       "      <td>Arrivé le soir à 22h30 et reparti le lendemain...</td>\n",
       "      <td>9.2</td>\n",
       "    </tr>\n",
       "    <tr>\n",
       "      <th>50813</th>\n",
       "      <td>Exceptionnel Tout</td>\n",
       "      <td>10.0</td>\n",
       "    </tr>\n",
       "  </tbody>\n",
       "</table>\n",
       "<p>50064 rows × 2 columns</p>\n",
       "</div>"
      ],
      "text/plain": [
       "                                                  review  note\n",
       "1                                              Superbe     8.8\n",
       "2      Déçu par rapport aux descriptifs je ne recomma...   5.0\n",
       "3                                                Bien      7.9\n",
       "4      Bien  La baignoire sur pieds dans la chambre.....   7.0\n",
       "5      Pas content ! Pas grand-chose !\\nLit assez con...   4.0\n",
       "...                                                  ...   ...\n",
       "50808  Bon acceuil, très bon rapport qualité, prix! B...  10.0\n",
       "50809  Fabuleux  Hôtel proche de la Gare Montparnasse...   9.2\n",
       "50811  Un séjour médiocre La localisation et le perso...   4.0\n",
       "50812  Arrivé le soir à 22h30 et reparti le lendemain...   9.2\n",
       "50813                                 Exceptionnel Tout   10.0\n",
       "\n",
       "[50064 rows x 2 columns]"
      ]
     },
     "execution_count": 11,
     "metadata": {},
     "output_type": "execute_result"
    }
   ],
   "source": [
    "# merge columns\n",
    "data['review'] = data.titre + ' ' + data.bons_points + ' ' + data.mauvais_points\n",
    "data = data[['review', 'note']]\n",
    "data"
   ]
  },
  {
   "cell_type": "markdown",
   "metadata": {},
   "source": [
    "## Proportion de commentaires positifs / négatifs\n",
    "\n",
    "Pour éviter d'avoir un modèle biaisé, on va observer si les commentaires sont équilibrés en fonction de leur note"
   ]
  },
  {
   "cell_type": "code",
   "execution_count": 12,
   "metadata": {
    "jupyter": {
     "source_hidden": true
    }
   },
   "outputs": [
    {
     "data": {
      "image/png": "[encoded data removed]",
      "text/plain": [
       "<Figure size 432x432 with 1 Axes>"
      ]
     },
     "metadata": {},
     "output_type": "display_data"
    }
   ],
   "source": [
    "#diagramme circulaire des modalités de la polarité des commentaires\n",
    "data_percentages = data.note.groupby(data.note > 6).size() / data.shape[0]\n",
    "\n",
    "fig1, ax1 = plt.subplots()\n",
    "\n",
    "plt.title(\"Pourcentage des commentaires positifs / négatifs selon la note Booking\", fontsize=18)\n",
    "labels = ['positif', 'négatif']\n",
    "sizes = [data_percentages[1], data_percentages[0]]\n",
    "\n",
    "patches, texts, autotexts = ax1.pie(sizes,  labels=labels, autopct='%1.1f%%', startangle=130, colors = ['#70A288', '#6D2E46'])\n",
    "texts[0].set_fontsize(15)\n",
    "texts[1].set_fontsize(15)"
   ]
  },
  {
   "cell_type": "markdown",
   "metadata": {},
   "source": [
    "## Comment préparer son dataset dans un projet NLP ?"
   ]
  },
  {
   "cell_type": "markdown",
   "metadata": {},
   "source": [
    "Pour optimiser notre modélisation, on souhaite **conserver seulement les mots / caractères les plus pertinents pour déterminer la polarité d'un commentaire**. "
   ]
  },
  {
   "cell_type": "markdown",
   "metadata": {},
   "source": [
    "4 étapes :\n",
    "\n",
    "- tokenisation\n",
    "- retrait des stop words\n",
    "- lemmatisation\n",
    "- stemming"
   ]
  },
  {
   "cell_type": "markdown",
   "metadata": {},
   "source": [
    "### 1 - Tokenisation\n",
    "\n",
    "Pour faciliter la compréhension du language naturel par la machine, on doit transformer nos chaînes de caractères en tokens.\n",
    "\n",
    ">**tokens** : mots, ponctuation, symboles\n",
    "\n",
    "La tokenisation basique consiste à séparer le texte par les espaces et la ponctuation. "
   ]
  },
  {
   "cell_type": "code",
   "execution_count": 13,
   "metadata": {},
   "outputs": [],
   "source": [
    "get_review_tokens = [word_tokenize(review) for review in data.review]"
   ]
  },
  {
   "cell_type": "markdown",
   "metadata": {},
   "source": [
    "### 2 - retrait des stop words\n",
    "\n",
    "Les conjonctions de coordinations et la ponctuation n'apporte pas d'information pertinente donc pour améliorer la vitesse du modèle on peut les retirer et éviter d'influencer le modèle par leur présence, on les retire. "
   ]
  },
  {
   "cell_type": "code",
   "execution_count": 14,
   "metadata": {},
   "outputs": [],
   "source": [
    "# 'ne' / 'pas' can't be stop words, they have meaning\n",
    "stop_words = get_stop_words('french').copy() \n",
    "stop_words.remove('ne')\n",
    "stop_words.remove('pas')"
   ]
  },
  {
   "cell_type": "code",
   "execution_count": 15,
   "metadata": {},
   "outputs": [],
   "source": [
    "def remove_stopwords(review, stopwords):\n",
    "    # remove stop words from the review\n",
    "    \n",
    "    #remove punctuation\n",
    "    ponctuations = string.punctuation\n",
    "    p = re.compile(r'\\.+')\n",
    "    \n",
    "    # remove stop words, ellipsis, punctuation and words which length is below 2, numbers\n",
    "    review = [p.sub(r'', word).lower() for word in review if word.lower() not in stop_words and word not in ponctuations and not word.isnumeric() and (len(word) > 2 or word == \"ne\")]\n",
    "    \n",
    "    # remove empty strings\n",
    "    review = filter(None, review)\n",
    "    \n",
    "    return ' '.join(review)"
   ]
  },
  {
   "cell_type": "code",
   "execution_count": 16,
   "metadata": {},
   "outputs": [],
   "source": [
    "cleaned_review_tokens = [remove_stopwords(review, stop_words) for review in get_review_tokens]"
   ]
  },
  {
   "cell_type": "markdown",
   "metadata": {},
   "source": [
    "### 3 -Normalization : stemmatisation & lemmatization\n",
    "\n",
    "La normalisation en NLP consiste à conserver la forme canonique des mots du corpus. On peut utiliser deux méthodes : la lemmatization et le stemmatisation"
   ]
  },
  {
   "cell_type": "markdown",
   "metadata": {},
   "source": [
    "#### Lemmatization \n",
    "\n",
    "La lemmatization consiste à analyser le mot selon le contexte d'utilisation et le remplacer par une forme normalisée."
   ]
  },
  {
   "cell_type": "markdown",
   "metadata": {},
   "source": [
    "**1 - Etiquetage morpho-syntaxique**\n",
    "\n",
    "On détermine le contexte d'utilisation grâce à l'étiquetage morpho-syntaxique (Part-Of-Speech - POS Tagging ): on essaye d'attribuer une étiquette (tag) à chaque mot correspondant à sa fonctionnalité grammaticale dans la phrase (nom propre, adjectif, etc...)"
   ]
  },
  {
   "cell_type": "markdown",
   "metadata": {},
   "source": [
    "Notre lemmatizer utilise les tags du WordNet, donc il faut lier les tags en sortie de la fonction pos_tag à ceux de WordNet (a, n, r, v).\n",
    "\n",
    "**Part-of-speech tags**\n",
    "\n",
    "|tag de la fonction pos_tag|tag WordNet| signification |\n",
    "|-|-|-|\n",
    "| tags commençant par N | n | nom |\n",
    "| tags commençant par JJ | a | adjectif |\n",
    "| tags commençant par V | v | verbe |\n",
    "| tags commençant par R | r | adverbe |\n",
    "| les autres tags | N/A | N/A |\n",
    "\n",
    "Les tags qui n'entrent dans aucune des catégories, ne seront pas considérés par le lemmatizer."
   ]
  },
  {
   "cell_type": "code",
   "execution_count": 17,
   "metadata": {
    "jupyter": {
     "source_hidden": true
    }
   },
   "outputs": [],
   "source": [
    "def get_POS(review):\n",
    "    # pos tag only work if all the element inside the list aren't empty\n",
    "    review = review.split(' ')\n",
    "    review = list(filter(None, review))\n",
    "    return pos_tag(review)"
   ]
  },
  {
   "cell_type": "code",
   "execution_count": 18,
   "metadata": {
    "jupyter": {
     "source_hidden": true
    }
   },
   "outputs": [],
   "source": [
    "#tokens_with_pos = [get_POS(review) for review in cleaned_review_tokens]"
   ]
  },
  {
   "cell_type": "code",
   "execution_count": 19,
   "metadata": {
    "jupyter": {
     "source_hidden": true
    }
   },
   "outputs": [],
   "source": [
    "def word_lemmatizer(review_with_tag):\n",
    "    lemmatizer = FrenchLefffLemmatizer()\n",
    "    \n",
    "    lem_text = []\n",
    "    \n",
    "    for word, pos in review_with_tag:\n",
    "        if pos.startswith('N'):\n",
    "            normalized_word = lemmatizer.lemmatize(word, 'n') \n",
    "        elif pos.startswith('JJ'):\n",
    "            normalized_word = lemmatizer.lemmatize(word, 'a') \n",
    "        elif pos.startswith('V'):\n",
    "            normalized_word =  lemmatizer.lemmatize(word, 'v') \n",
    "        elif pos.startswith('R'):\n",
    "            normalized_word = lemmatizer.lemmatize(word, 'r') \n",
    "        else :\n",
    "            normalized_word = lemmatizer.lemmatize(word) \n",
    "        \n",
    "        lem_text.append(normalized_word)\n",
    "            \n",
    "    return lem_text"
   ]
  },
  {
   "cell_type": "code",
   "execution_count": 20,
   "metadata": {
    "jupyter": {
     "source_hidden": true
    }
   },
   "outputs": [],
   "source": [
    "# normalized_review_tokens = [word_lemmatizer(review) for review in tokens_with_pos]"
   ]
  },
  {
   "cell_type": "markdown",
   "metadata": {},
   "source": [
    "Le lemmatisation est une opération chronophage, les résultats étant tout de même satisfaisants sans cette étape, nous avons décider de ne pas l'inclure dans notre preprocessing. Nous nous contenterons du stemming, opération beaucoup plus rapide."
   ]
  },
  {
   "cell_type": "markdown",
   "metadata": {},
   "source": [
    "#### Stemmatisation\n",
    "\n",
    "Pour éviter d'inclure les variations d'un mot dans notre corpus (ex: vouloir : veux, voulons, veuille, etc..), on va récuperer le radical du mot."
   ]
  },
  {
   "cell_type": "code",
   "execution_count": 21,
   "metadata": {},
   "outputs": [],
   "source": [
    "def stem_review(review):\n",
    "    stem = FrenchStemmer()\n",
    "    review = review.split(' ')\n",
    "    return [stem.stem(word) for word in review]"
   ]
  },
  {
   "cell_type": "code",
   "execution_count": 22,
   "metadata": {},
   "outputs": [],
   "source": [
    "normalized_tokens = [stem_review(review) for review in cleaned_review_tokens]"
   ]
  },
  {
   "cell_type": "markdown",
   "metadata": {},
   "source": [
    "> Nos commentaires sont nettoyés et normalisés"
   ]
  },
  {
   "cell_type": "markdown",
   "metadata": {},
   "source": [
    "### VISUALISATION : Fréquence des mots et nuage de mots\n",
    "\n",
    "Pour observer la fréquence des mots, on va utiliser le corpus **cleaned_review_tokens** qui ne comprend pas la normalization et donc nous permet de voir les mots dans leur forme entière."
   ]
  },
  {
   "cell_type": "code",
   "execution_count": 23,
   "metadata": {
    "jupyter": {
     "source_hidden": true
    }
   },
   "outputs": [],
   "source": [
    "# we need to get all words\n",
    "all_words = np.hstack(np.array(cleaned_review_tokens))\n",
    "all_words = ' '.join(all_words).split(' ')\n",
    "\n",
    "#calculer les 100 mots les plus fréquents\n",
    "nb = 100\n",
    "word_dist = nltk.FreqDist(all_words)"
   ]
  },
  {
   "cell_type": "code",
   "execution_count": 24,
   "metadata": {
    "jupyter": {
     "source_hidden": true
    }
   },
   "outputs": [
    {
     "data": {
      "text/html": [
       "<div>\n",
       "<style scoped>\n",
       "    .dataframe tbody tr th:only-of-type {\n",
       "        vertical-align: middle;\n",
       "    }\n",
       "\n",
       "    .dataframe tbody tr th {\n",
       "        vertical-align: top;\n",
       "    }\n",
       "\n",
       "    .dataframe thead th {\n",
       "        text-align: right;\n",
       "    }\n",
       "</style>\n",
       "<table border=\"1\" class=\"dataframe\">\n",
       "  <thead>\n",
       "    <tr style=\"text-align: right;\">\n",
       "      <th></th>\n",
       "      <th>Word</th>\n",
       "      <th>Frequency</th>\n",
       "    </tr>\n",
       "  </thead>\n",
       "  <tbody>\n",
       "    <tr>\n",
       "      <th>0</th>\n",
       "      <td>pas</td>\n",
       "      <td>27057</td>\n",
       "    </tr>\n",
       "    <tr>\n",
       "      <th>1</th>\n",
       "      <td>chambre</td>\n",
       "      <td>21282</td>\n",
       "    </tr>\n",
       "    <tr>\n",
       "      <th>2</th>\n",
       "      <td>bien</td>\n",
       "      <td>15204</td>\n",
       "    </tr>\n",
       "    <tr>\n",
       "      <th>3</th>\n",
       "      <td>petit</td>\n",
       "      <td>10352</td>\n",
       "    </tr>\n",
       "    <tr>\n",
       "      <th>4</th>\n",
       "      <td>personnel</td>\n",
       "      <td>10083</td>\n",
       "    </tr>\n",
       "    <tr>\n",
       "      <th>5</th>\n",
       "      <td>ne</td>\n",
       "      <td>7683</td>\n",
       "    </tr>\n",
       "    <tr>\n",
       "      <th>6</th>\n",
       "      <td>hôtel</td>\n",
       "      <td>7604</td>\n",
       "    </tr>\n",
       "    <tr>\n",
       "      <th>7</th>\n",
       "      <td>salle</td>\n",
       "      <td>7238</td>\n",
       "    </tr>\n",
       "    <tr>\n",
       "      <th>8</th>\n",
       "      <td>déjeuner</td>\n",
       "      <td>7128</td>\n",
       "    </tr>\n",
       "    <tr>\n",
       "      <th>9</th>\n",
       "      <td>décevant</td>\n",
       "      <td>5764</td>\n",
       "    </tr>\n",
       "  </tbody>\n",
       "</table>\n",
       "</div>"
      ],
      "text/plain": [
       "        Word  Frequency\n",
       "0        pas      27057\n",
       "1    chambre      21282\n",
       "2       bien      15204\n",
       "3      petit      10352\n",
       "4  personnel      10083\n",
       "5         ne       7683\n",
       "6      hôtel       7604\n",
       "7      salle       7238\n",
       "8   déjeuner       7128\n",
       "9   décevant       5764"
      ]
     },
     "execution_count": 24,
     "metadata": {},
     "output_type": "execute_result"
    }
   ],
   "source": [
    "#affichage dans un dataframe des 10 mots les plus fréquents\n",
    "word_frequency = pd.DataFrame(word_dist.most_common(nb), columns=['Word', 'Frequency'])\n",
    "most_frequent = word_frequency.head(10)\n",
    "most_frequent"
   ]
  },
  {
   "cell_type": "code",
   "execution_count": 25,
   "metadata": {
    "jupyter": {
     "source_hidden": true
    }
   },
   "outputs": [
    {
     "data": {
      "text/plain": [
       "<matplotlib.axes._subplots.AxesSubplot at 0x1a1af06490>"
      ]
     },
     "execution_count": 25,
     "metadata": {},
     "output_type": "execute_result"
    },
    {
     "data": {
      "image/png": "[encoded data removed]",
      "text/plain": [
       "<Figure size 1440x720 with 1 Axes>"
      ]
     },
     "metadata": {
      "needs_background": "light"
     },
     "output_type": "display_data"
    }
   ],
   "source": [
    "#histogramme des 10 mots les plus fréquents\n",
    "plt.figure(figsize=(20,10))\n",
    "sns.set_style(\"whitegrid\")\n",
    "sns.barplot(x=\"Word\",y=\"Frequency\", data=most_frequent)"
   ]
  },
  {
   "cell_type": "code",
   "execution_count": 26,
   "metadata": {
    "jupyter": {
     "source_hidden": true
    }
   },
   "outputs": [],
   "source": [
    "#fonction pour générer un nuage de mots\n",
    "def wcloud(data,bgcolor,title):\n",
    "    plt.figure(figsize = (100,100))\n",
    "    wc = WordCloud(background_color = bgcolor, max_words = 1000,  max_font_size = 50)\n",
    "    wc.generate(' '.join(data))\n",
    "    plt.imshow(wc)\n",
    "    plt.axis('off')"
   ]
  },
  {
   "cell_type": "code",
   "execution_count": 27,
   "metadata": {
    "jupyter": {
     "source_hidden": true
    }
   },
   "outputs": [
    {
     "data": {
      "image/png": "[encoded data removed]",
      "text/plain": [
       "<Figure size 7200x7200 with 1 Axes>"
      ]
     },
     "metadata": {},
     "output_type": "display_data"
    }
   ],
   "source": [
    "wcloud(all_words,'black','Common Words')"
   ]
  },
  {
   "cell_type": "markdown",
   "metadata": {},
   "source": [
    "## Analyse de sentiments\n",
    "\n",
    "L'analyse de sentiments consiste à déterminer si un commentaire est positif, neutre ou négatif.\n",
    "\n",
    "### Première approche : calcul de la polarité avec la note Booking\n",
    "\n",
    "Avec les notes Booking, on va faire la répartition suivante et on récupère le dataset commentaires / polarité: \n",
    "\n",
    "0 => 5 : négatif  \n",
    "sup 5 : positif  "
   ]
  },
  {
   "cell_type": "code",
   "execution_count": 28,
   "metadata": {},
   "outputs": [],
   "source": [
    "reviews = np.array([' '.join(review) for review in normalized_tokens])\n",
    "\n",
    "notes_booking = data.note.copy()\n",
    "notes_booking.loc[notes_booking < 5] = 0\n",
    "notes_booking.loc[notes_booking >= 5] = 1\n",
    "\n",
    "# dataset with preprocessing\n",
    "dataset_note_booking = pd.DataFrame(data= {'review' : reviews, 'polarite' : notes_booking})\n",
    "dataset_note_booking.to_csv('data/dataset_note_booking.csv', index=False)"
   ]
  },
  {
   "cell_type": "markdown",
   "metadata": {},
   "source": [
    "### Deuxieme approche : calcul de la polarité sur les commentaires"
   ]
  },
  {
   "cell_type": "markdown",
   "metadata": {},
   "source": [
    "On va utiliser le Pattern Analyzer de TextBlob pour déterminer la polarité d'un commentaire\n",
    "\n",
    "Une polarité de : \n",
    "* \\- 1 à 0 : commentaire négatif\n",
    "* 0 à 1 : commentaire positif\n",
    "\n",
    "Pour avoir une polarité correcte, on va la calculer sur les tokens sans normalisation (utilisation de la liste **cleaned_review_tokens**)"
   ]
  },
  {
   "cell_type": "code",
   "execution_count": 29,
   "metadata": {},
   "outputs": [],
   "source": [
    "# sentiment renvoie un tuple avec la polarité et la subjectivite, on veut récuperer juste la première valeur\n",
    "polarite = [TextBlob(review, analyzer=PatternAnalyzer()).sentiment[0] for review in cleaned_review_tokens]"
   ]
  },
  {
   "cell_type": "markdown",
   "metadata": {},
   "source": [
    "#### Datasets avec la polarité\n",
    "\n",
    "la polarité peut prendre une valeur continue entre -1 et 1. On peut regrouper les valeurs en 2 groupes (0 / 1)\n",
    "et ne pas tenir compte des commentaires neutres (polarité = 0)"
   ]
  },
  {
   "cell_type": "code",
   "execution_count": 30,
   "metadata": {
    "collapsed": true,
    "jupyter": {
     "outputs_hidden": true
    }
   },
   "outputs": [
    {
     "name": "stderr",
     "output_type": "stream",
     "text": [
      "/opt/anaconda3/lib/python3.7/site-packages/pandas/core/indexing.py:671: SettingWithCopyWarning: \n",
      "A value is trying to be set on a copy of a slice from a DataFrame\n",
      "\n",
      "See the caveats in the documentation: https://pandas.pydata.org/pandas-docs/stable/user_guide/indexing.html#returning-a-view-versus-a-copy\n",
      "  self._setitem_with_indexer(indexer, value)\n"
     ]
    }
   ],
   "source": [
    "dataset_polarite = pd.DataFrame({'review': reviews, 'polarite' : polarite})\n",
    "\n",
    "dataset_polarite = dataset_polarite.loc[dataset_polarite['polarite'] != 0]\n",
    "dataset_polarite.polarite.loc[dataset_polarite['polarite'] < 0] = 0\n",
    "dataset_polarite.polarite.loc[dataset_polarite['polarite'] > 0] = 1\n",
    "\n",
    "# dataset with preprocessing\n",
    "dataset_polarite.to_csv('data/dataset_polarite.csv', index=False)"
   ]
  },
  {
   "cell_type": "code",
   "execution_count": 31,
   "metadata": {
    "jupyter": {
     "source_hidden": true
    }
   },
   "outputs": [
    {
     "data": {
      "image/png": "[encoded data removed]",
      "text/plain": [
       "<Figure size 432x432 with 1 Axes>"
      ]
     },
     "metadata": {},
     "output_type": "display_data"
    }
   ],
   "source": [
    "#diagramme circulaire des modalités de la polarité des commentaires\n",
    "data_percentages = dataset_polarite.polarite.value_counts() / dataset_polarite.shape[0]\n",
    "\n",
    "fig1, ax1 = plt.subplots()\n",
    "\n",
    "plt.title(\"Pourcentage des commentaires positifs vs négatifs par rapport à la polarité\", fontsize=18)\n",
    "labels = ['positif', 'négatif']\n",
    "sizes = [data_percentages[1], data_percentages[0]]\n",
    "\n",
    "patches, texts, autotexts = ax1.pie(sizes,  labels=labels, autopct='%1.1f%%', startangle=130, colors = ['#70A288', '#6D2E46'])\n",
    "texts[0].set_fontsize(15)\n",
    "texts[1].set_fontsize(15)"
   ]
  },
  {
   "cell_type": "markdown",
   "metadata": {},
   "source": [
    "### Corrélation entre les notes Booking et la polarité calculée"
   ]
  },
  {
   "cell_type": "markdown",
   "metadata": {},
   "source": [
    "Calculons la répartition des commentaires positifs / négatifs selon la polarité obtenue avec TextBlob"
   ]
  },
  {
   "cell_type": "markdown",
   "metadata": {},
   "source": [
    "#### Matrice de corrélation"
   ]
  },
  {
   "cell_type": "code",
   "execution_count": 32,
   "metadata": {
    "jupyter": {
     "source_hidden": true
    }
   },
   "outputs": [
    {
     "data": {
      "text/plain": [
       "<matplotlib.axes._subplots.AxesSubplot at 0x1a2ddf9a50>"
      ]
     },
     "execution_count": 32,
     "metadata": {},
     "output_type": "execute_result"
    },
    {
     "data": {
      "image/png": "[encoded data removed]",
      "text/plain": [
       "<Figure size 432x432 with 2 Axes>"
      ]
     },
     "metadata": {},
     "output_type": "display_data"
    }
   ],
   "source": [
    "d = {'polarite': polarite, 'note': notes_booking.values}\n",
    "polarites = pd.DataFrame(data=d)\n",
    "\n",
    "df_corr = polarites.corr()\n",
    "sns.heatmap(df_corr, annot=True)"
   ]
  },
  {
   "cell_type": "markdown",
   "metadata": {},
   "source": [
    "## Analyse comparative des modèles de classification\n",
    "\n",
    "<img width=\"1000px\" src='img/apprentissage_supervise.png' alt='supervised_learning'>\n",
    "\n",
    "On va tester plusieurs modèles pour voir celui qui nous sort les meilleurs résultats : \n",
    "   - Régression logistique\n",
    "   - Naive Bayes : ComplementNB, Multinomial\n",
    "   - Méthodes ensemblistes : XGB, GradientBoosting, RandomForest, AdaBoost\n",
    "   - SVM\n",
    "   \n",
    "### Feature Transformation\n",
    "\n",
    "<img width=\"1000px\" src='img/count_vectorizer_2.png' alt='count_vectorizer'>\n",
    "\n",
    "<img width=\"1000px\" src='img/tf.png' alt='tf'>\n",
    "\n",
    "<img width=\"1200px\" src='img/idf.png' alt='tf_idf'>\n",
    "\n",
    "<img width=\"1000px\" src='img/tf-idf_2.jpg' alt='tf_idf'>\n",
    "\n",
    "#### N-gram\n",
    "\n",
    "On a opté pour un 2-gram qui est une séquence de 2 tokens, ex : ‘accueil agréab’!\n",
    "\n",
    "#### Truncated SVD\n",
    "\n",
    "SVD, très similaire à l’ACP, on a réduit les colonnes à 300."
   ]
  },
  {
   "cell_type": "markdown",
   "metadata": {},
   "source": [
    "## Modélisation"
   ]
  },
  {
   "cell_type": "code",
   "execution_count": 33,
   "metadata": {},
   "outputs": [],
   "source": [
    "def run_model(db_name, model_name, train_name, model, X_train, y_train, default_params = None, grid_search_params = None):\n",
    "    '''\n",
    "    run model with different feature transformations + with or without GridSearch\n",
    "    '''\n",
    "    # measures the time taken by the model to run\n",
    "    start_time = time.time()\n",
    "\n",
    "    # get model\n",
    "    if default_params:\n",
    "        clf = model(**default_params)\n",
    "    else : \n",
    "        clf = model()\n",
    "    \n",
    "    # fit model with or without GridSearchCV\n",
    "    if grid_search_params :\n",
    "        grid_clf = GridSearchCV(clf, grid_search_params, n_jobs=-1)\n",
    "        clf = grid_clf.fit(X_train, y_train)\n",
    "        best_params = clf.best_params_\n",
    "        print(best_params)\n",
    "    else:\n",
    "        clf.fit(X_train, y_train)\n",
    "        best_params = None\n",
    "            \n",
    "    # get predictions\n",
    "    y_pred = clf.predict(X_train)\n",
    "    \n",
    "    # we will record some metrics in a CSV file for presentation\n",
    "    duration = time.time() - start_time\n",
    "    accuracy = np.mean(cross_val_score(clf, X_train, y_train, cv=5)) # avg score on the CV\n",
    "    precision = precision_score(y_train, y_pred, average=None)\n",
    "    recall = recall_score(y_train, y_pred, average=None)\n",
    "    f1score = f1_score(y_train, y_pred, average=None)\n",
    "    results = [[db_name, model_name, train_name, accuracy, precision, recall, f1score, best_params, duration ]]\n",
    "    \n",
    "    # save to csv\n",
    "    cols = ['dataset', 'model_name', 'feature transformation', 'accuracy', 'precision', 'recall', 'f1_score', 'best paramaters', 'duration']\n",
    "    \n",
    "    try:\n",
    "        backup = pd.read_csv('booking_models_metrics.csv')\n",
    "    except Exception as e:\n",
    "        print(e)\n",
    "        backup = pd.DataFrame([], columns=cols)\n",
    "    \n",
    "    model_metrics = pd.DataFrame(results, columns=cols)\n",
    "    \n",
    "    backup = pd.concat([backup, model_metrics])\n",
    "    backup.to_csv('booking_models_metrics.csv', index=False)\n",
    "    \n",
    "    return backup"
   ]
  },
  {
   "cell_type": "code",
   "execution_count": 34,
   "metadata": {},
   "outputs": [],
   "source": [
    "def get_models_results(name_dataset, dataset):\n",
    "    '''\n",
    "    for a given dataset, run all predefined models and paramaters and save the results into a CSV file\n",
    "    '''\n",
    "    \n",
    "    # get split data\n",
    "    X = dataset['review']\n",
    "    y = dataset['polarite']\n",
    "    X_train, X_test, y_train, y_test = train_test_split(X, y, test_size=0.2, random_state=0)\n",
    "    \n",
    "    # get different types of X_train according to feature transformation\n",
    "    train_data = {}\n",
    "    \n",
    "    # CountVectorizer + Tf-idf\n",
    "    pipe_tfidf = make_pipeline(CountVectorizer(), TfidfTransformer())\n",
    "    X_train_tfidf = pipe_tfidf.fit_transform(X_train).toarray()\n",
    "    train_data['CV + TF-IDF'] = X_train_tfidf\n",
    "    \n",
    "    \n",
    "    # CountVectorizer + N-gram\n",
    "    pipe_ngram = make_pipeline(CountVectorizer(min_df=0.0005, ngram_range=(1, 2)), TfidfTransformer())\n",
    "    X_train_ngram = pipe_ngram.fit_transform(X_train).toarray()\n",
    "    train_data['CV(n-gram) + TF-IDF'] = X_train_ngram\n",
    "    \n",
    "    \n",
    "    # CountVectorizer + Tf-idf Truncated SVD\n",
    "    pipe_svd_tfidf = make_pipeline(CountVectorizer(), TfidfTransformer(), TruncatedSVD(n_components=300))\n",
    "    X_train_svd = pipe_svd_tfidf.fit_transform(X_train)\n",
    "    train_data['CV + TF-IDF + SVD'] = X_train_svd\n",
    "    \n",
    "    # list models\n",
    "    models = {\n",
    "        'Regression logistique' : LogisticRegression,\n",
    "        'NB : Naive Bayes' : MultinomialNB, \n",
    "        'Gradient Boosting' : GradientBoostingClassifier,\n",
    "        'Random Forest' : RandomForestClassifier,\n",
    "        'XGB': XGBClassifier,\n",
    "        'SVC' : SVC,\n",
    "        'AdaBoost': AdaBoostClassifier\n",
    "    }\n",
    "    \n",
    "    # related params for GridSearch and random_state\n",
    "    params = {\n",
    "        'Regression logistique' : [{'penalty' : ['l1', 'l2']}, {'random_state' : 0}],\n",
    "        'NB : Naive Bayes' : [ None, None ],\n",
    "        'Gradient Boosting' : [{'learning_rate' : [0.05, 0.01, 0.2], \n",
    "                                'criterion': [\"friedman_mse\", \"mae\", \"mse\"],\n",
    "                                'n_estimators' : [50, 200],\n",
    "                                'max_depth': [6, 30, 50]}, {'random_state' : 0}],\n",
    "        'Random Forest' : [{'boostrap' : [True, False], \n",
    "                            'criterion' : ['gini', 'entropy'], \n",
    "                            'n_estimators' : [50, 200],\n",
    "                            'max_depth': [6, 30, 50]}, {'random_state' : 0}], \n",
    "        'XGB': [{'learning_rate' : [0.05, 0.01, 0.2],\n",
    "                 'max_depth' : [6, 30, 50],\n",
    "                 'n_estimators' : [50, 200]}, {'random_state' : 0}],\n",
    "        'SVC' : [{ 'C': [1, 5, 10, 50],\n",
    "                  'gamma': [0.0001, 0.0005, 0.001, 0.005],\n",
    "                 'kernel': ['rbf','sigmoid']}, \n",
    "                 {'random_state' : 0}],\n",
    "        'AdaBoostClassifier' : [ {'base_estimator' : [MultinomialNB, SVC],\n",
    "                                  'n_estimators' : [50, 200]}, \n",
    "                                {'random_state' : 0}]\n",
    "    }\n",
    "    \n",
    "    \n",
    "    # run models with different parameters and different feature extraction methods\n",
    "    for name_model, model in models.items():\n",
    "        for name_X_train, X_train in train_data.items():\n",
    "            print(name_dataset, name_X_train, name_model, params[name_model][0], params[name_model][1])\n",
    "            try : \n",
    "                run_model(name_dataset, \n",
    "                          name_model, \n",
    "                          name_X_train, \n",
    "                          model, \n",
    "                          X_train, \n",
    "                          y_train, \n",
    "                          default_params = params[name_model][1], \n",
    "                          grid_search_params = params[name_model][0])\n",
    "            except Exception as e:\n",
    "                print(e)\n",
    "            print('done')"
   ]
  },
  {
   "cell_type": "code",
   "execution_count": 35,
   "metadata": {
    "jupyter": {
     "source_hidden": true
    }
   },
   "outputs": [],
   "source": [
    "# on récupère tous les modèles et leurs métriques dans le fichier CSV booking_models_metrics.csv\n",
    "get_models_results('note_booking', dataset_note_booking)"
   ]
  },
  {
   "cell_type": "code",
   "execution_count": 36,
   "metadata": {
    "jupyter": {
     "source_hidden": true
    }
   },
   "outputs": [],
   "source": [
    "get_models_results('note_polarite', dataset_polarite)"
   ]
  },
  {
   "cell_type": "markdown",
   "metadata": {},
   "source": [
    "## 4 - Résultats et Evaluation"
   ]
  },
  {
   "cell_type": "markdown",
   "metadata": {},
   "source": [
    "### Résultats sur le X_train"
   ]
  },
  {
   "cell_type": "code",
   "execution_count": 41,
   "metadata": {
    "jupyter": {
     "source_hidden": true
    }
   },
   "outputs": [
    {
     "data": {
      "text/html": [
       "<div>\n",
       "<style scoped>\n",
       "    .dataframe tbody tr th:only-of-type {\n",
       "        vertical-align: middle;\n",
       "    }\n",
       "\n",
       "    .dataframe tbody tr th {\n",
       "        vertical-align: top;\n",
       "    }\n",
       "\n",
       "    .dataframe thead th {\n",
       "        text-align: right;\n",
       "    }\n",
       "</style>\n",
       "<table border=\"1\" class=\"dataframe\">\n",
       "  <thead>\n",
       "    <tr style=\"text-align: right;\">\n",
       "      <th></th>\n",
       "      <th>dataset</th>\n",
       "      <th>model_name</th>\n",
       "      <th>feature transformation</th>\n",
       "      <th>accuracy</th>\n",
       "      <th>precision</th>\n",
       "      <th>recall</th>\n",
       "      <th>f1_score</th>\n",
       "      <th>best paramaters</th>\n",
       "      <th>duration</th>\n",
       "    </tr>\n",
       "  </thead>\n",
       "  <tbody>\n",
       "    <tr>\n",
       "      <th>0</th>\n",
       "      <td>note_booking</td>\n",
       "      <td>multinomial</td>\n",
       "      <td>cv + tf-idf</td>\n",
       "      <td>0.874959</td>\n",
       "      <td>[0.92872711 0.89059109]</td>\n",
       "      <td>[0.71613445 0.97676814]</td>\n",
       "      <td>[0.80869235 0.93169112]</td>\n",
       "      <td>NaN</td>\n",
       "      <td>3.495540</td>\n",
       "    </tr>\n",
       "    <tr>\n",
       "      <th>1</th>\n",
       "      <td>note_booking</td>\n",
       "      <td>multinomial</td>\n",
       "      <td>cv + tf-idf</td>\n",
       "      <td>0.875234</td>\n",
       "      <td>[0.92818281 0.89080069]</td>\n",
       "      <td>[0.71680672 0.97655501]</td>\n",
       "      <td>[0.80891418 0.9317088 ]</td>\n",
       "      <td>NaN</td>\n",
       "      <td>7.637715</td>\n",
       "    </tr>\n",
       "    <tr>\n",
       "      <th>2</th>\n",
       "      <td>note_booking</td>\n",
       "      <td>Regression logistique</td>\n",
       "      <td>CV + TF-IDF</td>\n",
       "      <td>0.914060</td>\n",
       "      <td>[0.91165951 0.94097066]</td>\n",
       "      <td>[0.85680672 0.96490356]</td>\n",
       "      <td>[0.88338243 0.95278684]</td>\n",
       "      <td>{'penalty': 'l2'}</td>\n",
       "      <td>388.531569</td>\n",
       "    </tr>\n",
       "    <tr>\n",
       "      <th>3</th>\n",
       "      <td>note_booking</td>\n",
       "      <td>Regression logistique</td>\n",
       "      <td>CV(n-gram) + TF-IDF</td>\n",
       "      <td>0.916756</td>\n",
       "      <td>[0.9142755  0.94207317]</td>\n",
       "      <td>[0.8594958  0.96593371]</td>\n",
       "      <td>[0.88603976 0.95385425]</td>\n",
       "      <td>{'penalty': 'l2'}</td>\n",
       "      <td>71.552130</td>\n",
       "    </tr>\n",
       "    <tr>\n",
       "      <th>4</th>\n",
       "      <td>note_booking</td>\n",
       "      <td>Regression logistique</td>\n",
       "      <td>CV + TF-IDF + SVD</td>\n",
       "      <td>0.912137</td>\n",
       "      <td>[0.88398841 0.92626426]</td>\n",
       "      <td>[0.8202521 0.9544954]</td>\n",
       "      <td>[0.85092843 0.94016795]</td>\n",
       "      <td>{'penalty': 'l2'}</td>\n",
       "      <td>5.742546</td>\n",
       "    </tr>\n",
       "    <tr>\n",
       "      <th>5</th>\n",
       "      <td>note_booking</td>\n",
       "      <td>NB : Naive Bayes</td>\n",
       "      <td>CV + TF-IDF</td>\n",
       "      <td>0.875234</td>\n",
       "      <td>[0.92818281 0.89080069]</td>\n",
       "      <td>[0.71680672 0.97655501]</td>\n",
       "      <td>[0.80891418 0.9317088 ]</td>\n",
       "      <td>NaN</td>\n",
       "      <td>3.957875</td>\n",
       "    </tr>\n",
       "    <tr>\n",
       "      <th>6</th>\n",
       "      <td>note_booking</td>\n",
       "      <td>NB : Naive Bayes</td>\n",
       "      <td>CV(n-gram) + TF-IDF</td>\n",
       "      <td>0.899928</td>\n",
       "      <td>[0.8532618 0.9335547]</td>\n",
       "      <td>[0.84193277 0.93879436]</td>\n",
       "      <td>[0.84755943 0.9361672 ]</td>\n",
       "      <td>NaN</td>\n",
       "      <td>1.101095</td>\n",
       "    </tr>\n",
       "    <tr>\n",
       "      <th>7</th>\n",
       "      <td>note_polarite</td>\n",
       "      <td>Regression logistique</td>\n",
       "      <td>CV + TF-IDF</td>\n",
       "      <td>0.925332</td>\n",
       "      <td>[0.94668385 0.94938786]</td>\n",
       "      <td>[0.87039431 0.98023544]</td>\n",
       "      <td>[0.90693758 0.96456508]</td>\n",
       "      <td>{'penalty': 'l2'}</td>\n",
       "      <td>236.380418</td>\n",
       "    </tr>\n",
       "    <tr>\n",
       "      <th>8</th>\n",
       "      <td>note_polarite</td>\n",
       "      <td>Regression logistique</td>\n",
       "      <td>CV(n-gram) + TF-IDF</td>\n",
       "      <td>0.920441</td>\n",
       "      <td>[0.94350482 0.94749674]</td>\n",
       "      <td>[0.86543848 0.97910603]</td>\n",
       "      <td>[0.90278714 0.96304209]</td>\n",
       "      <td>{'penalty': 'l2'}</td>\n",
       "      <td>86.527620</td>\n",
       "    </tr>\n",
       "    <tr>\n",
       "      <th>9</th>\n",
       "      <td>note_polarite</td>\n",
       "      <td>Regression logistique</td>\n",
       "      <td>CV + TF-IDF + SVD</td>\n",
       "      <td>0.906015</td>\n",
       "      <td>[0.89464046 0.91896151]</td>\n",
       "      <td>[0.78948502 0.96251249]</td>\n",
       "      <td>[0.83877983 0.94023296]</td>\n",
       "      <td>{'penalty': 'l2'}</td>\n",
       "      <td>4.588459</td>\n",
       "    </tr>\n",
       "    <tr>\n",
       "      <th>10</th>\n",
       "      <td>note_polarite</td>\n",
       "      <td>NB : Naive Bayes</td>\n",
       "      <td>CV + TF-IDF</td>\n",
       "      <td>0.822586</td>\n",
       "      <td>[0.94631518 0.83900243]</td>\n",
       "      <td>[0.52984271 0.98788063]</td>\n",
       "      <td>[0.67932868 0.90737527]</td>\n",
       "      <td>NaN</td>\n",
       "      <td>2.648210</td>\n",
       "    </tr>\n",
       "    <tr>\n",
       "      <th>11</th>\n",
       "      <td>note_polarite</td>\n",
       "      <td>NB : Naive Bayes</td>\n",
       "      <td>CV(n-gram) + TF-IDF</td>\n",
       "      <td>0.865740</td>\n",
       "      <td>[0.81495883 0.90848508]</td>\n",
       "      <td>[0.76772247 0.92971635]</td>\n",
       "      <td>[0.79063575 0.9189781 ]</td>\n",
       "      <td>NaN</td>\n",
       "      <td>0.976295</td>\n",
       "    </tr>\n",
       "  </tbody>\n",
       "</table>\n",
       "</div>"
      ],
      "text/plain": [
       "          dataset             model_name feature transformation  accuracy  \\\n",
       "0    note_booking            multinomial            cv + tf-idf  0.874959   \n",
       "1    note_booking            multinomial            cv + tf-idf  0.875234   \n",
       "2    note_booking  Regression logistique            CV + TF-IDF  0.914060   \n",
       "3    note_booking  Regression logistique    CV(n-gram) + TF-IDF  0.916756   \n",
       "4    note_booking  Regression logistique      CV + TF-IDF + SVD  0.912137   \n",
       "5    note_booking       NB : Naive Bayes            CV + TF-IDF  0.875234   \n",
       "6    note_booking       NB : Naive Bayes    CV(n-gram) + TF-IDF  0.899928   \n",
       "7   note_polarite  Regression logistique            CV + TF-IDF  0.925332   \n",
       "8   note_polarite  Regression logistique    CV(n-gram) + TF-IDF  0.920441   \n",
       "9   note_polarite  Regression logistique      CV + TF-IDF + SVD  0.906015   \n",
       "10  note_polarite       NB : Naive Bayes            CV + TF-IDF  0.822586   \n",
       "11  note_polarite       NB : Naive Bayes    CV(n-gram) + TF-IDF  0.865740   \n",
       "\n",
       "                  precision                   recall                 f1_score  \\\n",
       "0   [0.92872711 0.89059109]  [0.71613445 0.97676814]  [0.80869235 0.93169112]   \n",
       "1   [0.92818281 0.89080069]  [0.71680672 0.97655501]  [0.80891418 0.9317088 ]   \n",
       "2   [0.91165951 0.94097066]  [0.85680672 0.96490356]  [0.88338243 0.95278684]   \n",
       "3   [0.9142755  0.94207317]  [0.8594958  0.96593371]  [0.88603976 0.95385425]   \n",
       "4   [0.88398841 0.92626426]    [0.8202521 0.9544954]  [0.85092843 0.94016795]   \n",
       "5   [0.92818281 0.89080069]  [0.71680672 0.97655501]  [0.80891418 0.9317088 ]   \n",
       "6     [0.8532618 0.9335547]  [0.84193277 0.93879436]  [0.84755943 0.9361672 ]   \n",
       "7   [0.94668385 0.94938786]  [0.87039431 0.98023544]  [0.90693758 0.96456508]   \n",
       "8   [0.94350482 0.94749674]  [0.86543848 0.97910603]  [0.90278714 0.96304209]   \n",
       "9   [0.89464046 0.91896151]  [0.78948502 0.96251249]  [0.83877983 0.94023296]   \n",
       "10  [0.94631518 0.83900243]  [0.52984271 0.98788063]  [0.67932868 0.90737527]   \n",
       "11  [0.81495883 0.90848508]  [0.76772247 0.92971635]  [0.79063575 0.9189781 ]   \n",
       "\n",
       "      best paramaters    duration  \n",
       "0                 NaN    3.495540  \n",
       "1                 NaN    7.637715  \n",
       "2   {'penalty': 'l2'}  388.531569  \n",
       "3   {'penalty': 'l2'}   71.552130  \n",
       "4   {'penalty': 'l2'}    5.742546  \n",
       "5                 NaN    3.957875  \n",
       "6                 NaN    1.101095  \n",
       "7   {'penalty': 'l2'}  236.380418  \n",
       "8   {'penalty': 'l2'}   86.527620  \n",
       "9   {'penalty': 'l2'}    4.588459  \n",
       "10                NaN    2.648210  \n",
       "11                NaN    0.976295  "
      ]
     },
     "execution_count": 41,
     "metadata": {},
     "output_type": "execute_result"
    }
   ],
   "source": [
    "results = pd.read_csv('booking_models_metrics_2.csv')\n",
    "results"
   ]
  },
  {
   "cell_type": "markdown",
   "metadata": {},
   "source": [
    "### Résultats sur le X_test"
   ]
  },
  {
   "cell_type": "code",
   "execution_count": 44,
   "metadata": {
    "jupyter": {
     "source_hidden": true
    }
   },
   "outputs": [
    {
     "data": {
      "text/html": [
       "<div>\n",
       "<style scoped>\n",
       "    .dataframe tbody tr th:only-of-type {\n",
       "        vertical-align: middle;\n",
       "    }\n",
       "\n",
       "    .dataframe tbody tr th {\n",
       "        vertical-align: top;\n",
       "    }\n",
       "\n",
       "    .dataframe thead th {\n",
       "        text-align: right;\n",
       "    }\n",
       "</style>\n",
       "<table border=\"1\" class=\"dataframe\">\n",
       "  <thead>\n",
       "    <tr style=\"text-align: right;\">\n",
       "      <th></th>\n",
       "      <th>dataset</th>\n",
       "      <th>model_name</th>\n",
       "      <th>feature transformation</th>\n",
       "      <th>accuracy</th>\n",
       "      <th>precision</th>\n",
       "      <th>recall</th>\n",
       "      <th>f1_score</th>\n",
       "      <th>best paramaters</th>\n",
       "      <th>duration</th>\n",
       "    </tr>\n",
       "  </thead>\n",
       "  <tbody>\n",
       "    <tr>\n",
       "      <th>0</th>\n",
       "      <td>note booking</td>\n",
       "      <td>Régression logistique</td>\n",
       "      <td>CV(n-gram) + TF-IDF</td>\n",
       "      <td>0.909818</td>\n",
       "      <td>[0.94160319 0.94514884]</td>\n",
       "      <td>[0.86706747 0.97706226]</td>\n",
       "      <td>[0.90279951 0.96084063]</td>\n",
       "      <td>NaN</td>\n",
       "      <td>2.202909</td>\n",
       "    </tr>\n",
       "    <tr>\n",
       "      <th>1</th>\n",
       "      <td>note polarite</td>\n",
       "      <td>Régression logistique</td>\n",
       "      <td>CV(n-gram) + TF-IDF</td>\n",
       "      <td>0.876518</td>\n",
       "      <td>[0.94421392 0.9319221 ]</td>\n",
       "      <td>[0.83591837 0.97848506]</td>\n",
       "      <td>[0.88677203 0.95463613]</td>\n",
       "      <td>NaN</td>\n",
       "      <td>2.372504</td>\n",
       "    </tr>\n",
       "  </tbody>\n",
       "</table>\n",
       "</div>"
      ],
      "text/plain": [
       "         dataset             model_name feature transformation  accuracy  \\\n",
       "0   note booking  Régression logistique    CV(n-gram) + TF-IDF  0.909818   \n",
       "1  note polarite  Régression logistique    CV(n-gram) + TF-IDF  0.876518   \n",
       "\n",
       "                 precision                   recall                 f1_score  \\\n",
       "0  [0.94160319 0.94514884]  [0.86706747 0.97706226]  [0.90279951 0.96084063]   \n",
       "1  [0.94421392 0.9319221 ]  [0.83591837 0.97848506]  [0.88677203 0.95463613]   \n",
       "\n",
       "   best paramaters  duration  \n",
       "0              NaN  2.202909  \n",
       "1              NaN  2.372504  "
      ]
     },
     "execution_count": 44,
     "metadata": {},
     "output_type": "execute_result"
    }
   ],
   "source": [
    "results = pd.read_csv('metrics_test.csv')\n",
    "results"
   ]
  },
  {
   "cell_type": "markdown",
   "metadata": {},
   "source": [
    "## 5 -  Application\n",
    "\n",
    "https://projetnlp.herokuapp.com/"
   ]
  },
  {
   "cell_type": "markdown",
   "metadata": {},
   "source": [
    "## 6 - Difficultés rencontrées\n",
    "\n",
    "\n",
    "### Scraping\n",
    "\n",
    "- **gérer les coupures internet et les code recaptcha** : il faut relancer le process automatiquement après coupure ou lorsqu'un popup 'Etes-vous humain' empêche toute interaction.\n",
    "- **booking.com ouvre forcément les pages établissement sur un nouvel onglet**: cela ralentit le code puisqu'il faut prendre en compte le temps de latence et les codes intempésitfs de booking (cookie / recaptcha)\n",
    "- **gérer le multiprocessing** : pour récupérer le plus de données possibles, on a utilisé le multiprocessing. Mais on s'est rendu compte que la gestion des exceptions est ici primordiale parce que malgré les exceptions, le code doit continuer de scraper le site. Ce qui compte c'est d'en scraper le plus possible et non de pouvoir scrapper tous les commentaires existants. \n",
    "- **récupération des commentaires négatifs**\n",
    "\n",
    "### Analyse des données\n",
    "\n",
    "la plus grosse difficulté que j'ai rencontrée était sur la tokenisation de la colonne sentence.\n",
    "A chaque fois que je voulais tokensier, j'avais ene erreur qui m'étais retournée, cela était du au fait que je l'appliquais pas la tokenisation sur chaque ligne dans la boucle je faisais.\n",
    "\n",
    "le reste des méthodes utilisées ou des fonctions utilisées ne m'ont pas posée de problèmes particuliers.\n",
    "\n",
    "Peut-être une chose que j'ai appris, utiliser plutôt les fonctions et méthodes \"built-in\" plutôt que recréer des fonctions avec des boucles, quand elles existent, car, c'est beaucoup moins coûteux .\n",
    "\n",
    "### Machine Learning\n",
    "\n",
    "Les Grid Search pouvant mettre du temps, on a pu être limité d'un point de vue temporel pour tester nos modèles\n",
    "\n",
    "### Création de l'application\n",
    "\n",
    "L'application Flask nous permet de soumettre un commentaire et de voir la prédiction du modèle trouvé lors de l'étape de Machine Learning. Les commentaires sont sauvegardés dans une base de données."
   ]
  }
 ],
 "metadata": {
  "kernelspec": {
   "display_name": "Python 3.7.7 64-bit ('base': conda)",
   "language": "python",
   "name": "python37764bitbaseconda04fa0fea65bf4a10b4dfdb5bab849fc4"
  },
  "language_info": {
   "codemirror_mode": {
    "name": "ipython",
    "version": 3
   },
   "file_extension": ".py",
   "mimetype": "text/x-python",
   "name": "python",
   "nbconvert_exporter": "python",
   "pygments_lexer": "ipython3",
   "version": "3.7.7"
  }
 },
 "nbformat": 4,
 "nbformat_minor": 4
}

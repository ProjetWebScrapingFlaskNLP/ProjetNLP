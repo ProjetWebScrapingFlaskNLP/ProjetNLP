{
 "cells": [
  {
   "cell_type": "code",
   "execution_count": 365,
   "metadata": {},
   "outputs": [
    {
     "data": {
      "text/plain": [
       "'fr_FR.UTF-8'"
      ]
     },
     "execution_count": 365,
     "metadata": {},
     "output_type": "execute_result"
    }
   ],
   "source": [
    "import chromedriver_binary\n",
    "from selenium import webdriver\n",
    "from selenium.webdriver.common.keys import Keys\n",
    "from selenium.common.exceptions import NoSuchElementException, StaleElementReferenceException\n",
    "import time\n",
    "import numpy as np\n",
    "import pandas as pd\n",
    "import concurrent.futures\n",
    "import multiprocessing\n",
    "import pprint\n",
    "import re\n",
    "import datetime\n",
    "import locale\n",
    "\n",
    "locale.setlocale(locale.LC_ALL, 'fr_FR.UTF-8')"
   ]
  },
  {
   "cell_type": "code",
   "execution_count": null,
   "metadata": {},
   "outputs": [],
   "source": [
    "bui-pagination__link paging-next ga_sr_gotopage_2_134\n",
    "    \n",
    "    bui-pagination__next-arrow\n",
    "    \n",
    "    \n",
    "    bui-pagination__next-arrow bui-pagination__item--disabled"
   ]
  },
  {
   "cell_type": "code",
   "execution_count": 345,
   "metadata": {},
   "outputs": [],
   "source": [
    "def accessibility(browser):\n",
    "    \"\"\"\n",
    "    if cookie banner and robot detection are present, remove them\n",
    "    \"\"\"\n",
    "    \n",
    "    # if are you humain popup appears, remove it\n",
    "    try :\n",
    "        btn_human = browser.find_element_by_css_selector('.bui-button .bui-button--primary')\n",
    "        btn_human.click()\n",
    "    except NoSuchElementException:\n",
    "         print('no popup to remove')\n",
    "        \n",
    "    # remove cookie banner because it takes almost 50% height of the page\n",
    "    try:\n",
    "        cookie_banner = browser.find_element_by_css_selector('#cookie_warning button')\n",
    "        cookie_banner.click()\n",
    "    except NoSuchElementException:\n",
    "        print('no cookie banner to remove')"
   ]
  },
  {
   "cell_type": "code",
   "execution_count": 353,
   "metadata": {},
   "outputs": [],
   "source": [
    "def do_query(url, query, browser):\n",
    "    \"\"\"\n",
    "    get a page and realize a query\n",
    "    \"\"\"\n",
    "    \n",
    "    # get page\n",
    "    browser.get(url)\n",
    "    \n",
    "    # let the JS charge a little in case you have cookie banners, \n",
    "    # robot detection scripts running\n",
    "    time.sleep(1)\n",
    "    accessibility(browser)\n",
    "    \n",
    "    # send query value\n",
    "    search_input = browser.find_element_by_id('ss')\n",
    "    search_input.send_keys(query)\n",
    "    \n",
    "    # btn submit\n",
    "    btn_submit = browser.find_element_by_class_name('sb-searchbox__button')\n",
    "    btn_submit.click()"
   ]
  },
  {
   "cell_type": "code",
   "execution_count": 366,
   "metadata": {},
   "outputs": [],
   "source": [
    "def get_hotels_list_one_page(hotel_links_list, browser):\n",
    "    accessibility(browser)\n",
    "    \n",
    "    # get hotellist\n",
    "    hotel_list = browser.find_elements_by_css_selector('#hotellist_inner .sr_item') \n",
    "    \n",
    "    for i in range(len(hotel_list)):\n",
    "        hotel_links = []\n",
    "        time.sleep(1)\n",
    "        try:\n",
    "            hotel_links = browser.find_elements_by_css_selector('h3 .hotel_name_link')\n",
    "            hotel_links_list.append(hotel_links[i].get_attribute('href'))\n",
    "            \n",
    "        except StaleElementReferenceException as e:\n",
    "            print(e)\n",
    "    \n",
    "    return hotel_links_list"
   ]
  },
  {
   "cell_type": "code",
   "execution_count": 367,
   "metadata": {},
   "outputs": [],
   "source": [
    "df = {\n",
    "    'nom' : [],\n",
    "    'pays' : [],\n",
    "    'favorite' : [],\n",
    "    'date': [],\n",
    "    'titre' : [],\n",
    "    'bons_points' : [],\n",
    "    'mauvais_points' : [],\n",
    "    'note' : [],\n",
    "    'type_etablissement' : [],\n",
    "    'lieu' : [],\n",
    "    'note_etablissement': []\n",
    "}"
   ]
  },
  {
   "cell_type": "code",
   "execution_count": 271,
   "metadata": {
    "jupyter": {
     "source_hidden": true
    }
   },
   "outputs": [],
   "source": [
    "def details_comment(df, review, etablissement):\n",
    "    # review : Selenium object\n",
    "    \n",
    "    name = review.find_element_by_css_selector('.bui-avatar-block__title').text\n",
    "    df['nom'].append(name)\n",
    "    \n",
    "    pays = review.find_element_by_css_selector('span.bui-avatar-block__subtitle').text\n",
    "    df['pays'].append(pays)\n",
    "    \n",
    "    try:\n",
    "        fav = review.find_element_by_css_selector('.c-review-block__badge').text\n",
    "        df['favorite'].append(1)\n",
    "    except NoSuchElementException:\n",
    "        df['favorite'].append(0)\n",
    "    \n",
    "    # we get the sanitized date value\n",
    "    date = review.find_element_by_css_selector('.c-review-block__date').text\n",
    "    pattern = re.compile(r'\\d{1,2}\\s\\w+\\s\\w{4}')\n",
    "    result = pattern.search(date)\n",
    "    date_str = result.group()\n",
    "    date_format = \"%d %B %Y\"\n",
    "    new_date = datetime.datetime.strptime(date_str, DATE_FORMAT)\n",
    "    \n",
    "    df['date'].append(new_date.date())\n",
    "    \n",
    "    titre = review.find_element_by_css_selector('.c-review-block__title').text\n",
    "    df['titre'].append(titre)\n",
    "    \n",
    "    try:\n",
    "        com_pos = review.find_element_by_css_selector('.c-review__inner:first-child .c-review__body').text\n",
    "        df['bons_points'].append(com_pos)\n",
    "    except NoSuchElementException:\n",
    "        df['bons_points'].append('Pas de commentaires positifs')\n",
    "    \n",
    "    try:\n",
    "        com_neg = review.find_element_by_css_selector('.lalala .c-review__body').text\n",
    "        df['mauvais_points'].append(com_neg)\n",
    "    except NoSuchElementException:\n",
    "        df['mauvais_points'].append('Pas de commentaires négatifs')\n",
    "        \n",
    "    \n",
    "    note = review.find_element_by_css_selector('.bui-review-score__badge').text\n",
    "    df['note'].append(note)\n",
    "    \n",
    "    \n",
    "    df['type_etablissement'].append(etablissement['type'])\n",
    "    df['lieu'].append(etablissement['lieu'])\n",
    "    df['note_etablissement'].append(etablissement['note'])"
   ]
  },
  {
   "cell_type": "code",
   "execution_count": 318,
   "metadata": {
    "jupyter": {
     "source_hidden": true
    }
   },
   "outputs": [],
   "source": [
    "def get_comments(url):\n",
    "    browser = webdriver.Chrome()\n",
    "    \n",
    "    # get page\n",
    "    browser.get(url)\n",
    "    \n",
    "    # if are you humain popup appears, remove it\n",
    "    try :\n",
    "        btn_human = browser.find_element_by_css_selector('.bui-button bui-button--primary')\n",
    "        btn_human.click()\n",
    "    except NoSuchElementException:\n",
    "         print('no popup to remove')\n",
    "        \n",
    "        \n",
    "    # remove cookie banner because it takes almost 50% height of the page\n",
    "    try:\n",
    "        cookie_banner = browser.find_element_by_css_selector('#cookie_warning button')\n",
    "        cookie_banner.click()\n",
    "    except NoSuchElementException:\n",
    "        print('no cookie banner to remove')\n",
    "        \n",
    "\n",
    "    # open reviews panel\n",
    "    btn_cmt = browser.find_element_by_id('show_reviews_tab')\n",
    "    btn_cmt.click()\n",
    "    \n",
    "    # get info about location\n",
    "    etablissement = {\n",
    "        'nom': browser.find_element_by_css_selector('.hp__hotel-name').text,\n",
    "        'type' : browser.find_element_by_css_selector('.hp__hotel-name span').text,\n",
    "        'note': browser.find_element_by_css_selector('.reviewFloater .bui-review-score__badge').get_attribute('innerHTML'), # sometimes it is hidden\n",
    "        'lieu' : browser.find_element_by_css_selector('.sb-destination__input').get_attribute(\"value\")\n",
    "    }\n",
    "    \n",
    "    time.sleep(1)\n",
    "        \n",
    "    #get only french reviews\n",
    "    btn_french = browser.find_element_by_css_selector('.language_filter .bui-input-checkbutton:first-child')\n",
    "    btn_french.click()\n",
    "    \n",
    "    # it has to take into account the language change\n",
    "    time.sleep(2)\n",
    "    \n",
    "    # get reviews_list\n",
    "    reviews = browser.find_elements_by_css_selector('[itemprop=\"review\"]')\n",
    "    \n",
    "    for i in range(len(reviews)): \n",
    "        reviews = browser.find_elements_by_css_selector('[itemprop=\"review\"]')\n",
    "        review =  reviews[i]\n",
    "        \n",
    "        browser.execute_script('arguments[0].scrollIntoView({behavior: \"smooth\", block: \"end\", inline: \"nearest\"});', review)\n",
    "        \n",
    "        # collect details about the review and store it inside the dictionary\n",
    "        details_comment(df, review, etablissement)\n",
    "        time.sleep(2)\n",
    "    \n",
    "    close_btn = browser.find_element_by_css_selector('.sliding-panel-widget.is-shown .sliding-panel-widget-close-button')\n",
    "    close_btn.click()\n",
    "        \n",
    "    # ========= DEBUG ONLY ============= #\n",
    "    pp = pprint.PrettyPrinter(indent=4)\n",
    "    pp.pprint(df)\n",
    "    # ========= END DEBUG ONLY ========== #"
   ]
  },
  {
   "cell_type": "code",
   "execution_count": 368,
   "metadata": {},
   "outputs": [],
   "source": [
    "def get_results():\n",
    "    # open booking.com and make a query\n",
    "    \n",
    "    browser = webdriver.Chrome()\n",
    "    \n",
    "    do_query('https://www.booking.com/', 'Paris', browser)\n",
    "    \n",
    "    hotel_links_list = []\n",
    "    \n",
    "    while True:\n",
    "        time.sleep(1)\n",
    "        get_hotels_list_one_page(hotel_links_list, browser)\n",
    "        next_btn = browser.find_element_by_css_selector('.bui-pagination__next-arrow .bui-pagination__link')\n",
    "        \n",
    "        if next_btn:\n",
    "            next_btn.click()\n",
    "        else:\n",
    "            break\n",
    "            \n",
    "    return hotel_links_list"
   ]
  },
  {
   "cell_type": "code",
   "execution_count": 364,
   "metadata": {},
   "outputs": [
    {
     "name": "stdout",
     "output_type": "stream",
     "text": [
      "no popup to remove\n",
      "no popup to remove\n",
      "no cookie banner to remove\n",
      "no popup to remove\n",
      "no cookie banner to remove\n",
      "no popup to remove\n",
      "no cookie banner to remove\n",
      "no popup to remove\n",
      "no cookie banner to remove\n",
      "no popup to remove\n",
      "no cookie banner to remove\n",
      "no popup to remove\n",
      "no cookie banner to remove\n",
      "no popup to remove\n",
      "no cookie banner to remove\n",
      "no popup to remove\n",
      "no cookie banner to remove\n",
      "no popup to remove\n",
      "no cookie banner to remove\n",
      "no popup to remove\n",
      "no cookie banner to remove\n"
     ]
    },
    {
     "ename": "StaleElementReferenceException",
     "evalue": "Message: stale element reference: element is not attached to the page document\n  (Session info: chrome=83.0.4103.61)\n",
     "output_type": "error",
     "traceback": [
      "\u001b[0;31m---------------------------------------------------------------------------\u001b[0m",
      "\u001b[0;31mStaleElementReferenceException\u001b[0m            Traceback (most recent call last)",
      "\u001b[0;32m<ipython-input-364-c6785da0634a>\u001b[0m in \u001b[0;36m<module>\u001b[0;34m\u001b[0m\n\u001b[0;32m----> 1\u001b[0;31m \u001b[0mget_results\u001b[0m\u001b[0;34m(\u001b[0m\u001b[0;34m)\u001b[0m\u001b[0;34m\u001b[0m\u001b[0;34m\u001b[0m\u001b[0m\n\u001b[0m",
      "\u001b[0;32m<ipython-input-363-b02b3f54d5f7>\u001b[0m in \u001b[0;36mget_results\u001b[0;34m()\u001b[0m\n\u001b[1;32m     10\u001b[0m     \u001b[0;32mwhile\u001b[0m \u001b[0;32mTrue\u001b[0m\u001b[0;34m:\u001b[0m\u001b[0;34m\u001b[0m\u001b[0;34m\u001b[0m\u001b[0m\n\u001b[1;32m     11\u001b[0m         \u001b[0mtime\u001b[0m\u001b[0;34m.\u001b[0m\u001b[0msleep\u001b[0m\u001b[0;34m(\u001b[0m\u001b[0;36m1\u001b[0m\u001b[0;34m)\u001b[0m\u001b[0;34m\u001b[0m\u001b[0;34m\u001b[0m\u001b[0m\n\u001b[0;32m---> 12\u001b[0;31m         \u001b[0mget_hotels_list_one_page\u001b[0m\u001b[0;34m(\u001b[0m\u001b[0mhotel_links_list\u001b[0m\u001b[0;34m,\u001b[0m \u001b[0mbrowser\u001b[0m\u001b[0;34m)\u001b[0m\u001b[0;34m\u001b[0m\u001b[0;34m\u001b[0m\u001b[0m\n\u001b[0m\u001b[1;32m     13\u001b[0m         \u001b[0mnext_btn\u001b[0m \u001b[0;34m=\u001b[0m \u001b[0mbrowser\u001b[0m\u001b[0;34m.\u001b[0m\u001b[0mfind_element_by_css_selector\u001b[0m\u001b[0;34m(\u001b[0m\u001b[0;34m'.bui-pagination__next-arrow .bui-pagination__link'\u001b[0m\u001b[0;34m)\u001b[0m\u001b[0;34m\u001b[0m\u001b[0;34m\u001b[0m\u001b[0m\n\u001b[1;32m     14\u001b[0m \u001b[0;34m\u001b[0m\u001b[0m\n",
      "\u001b[0;32m<ipython-input-362-456bd29708a4>\u001b[0m in \u001b[0;36mget_hotels_list_one_page\u001b[0;34m(hotel_links_list, browser)\u001b[0m\n\u001b[1;32m      8\u001b[0m         \u001b[0mhotel_links\u001b[0m \u001b[0;34m=\u001b[0m \u001b[0;34m[\u001b[0m\u001b[0;34m]\u001b[0m\u001b[0;34m\u001b[0m\u001b[0;34m\u001b[0m\u001b[0m\n\u001b[1;32m      9\u001b[0m         \u001b[0mhotel_links\u001b[0m \u001b[0;34m=\u001b[0m \u001b[0mbrowser\u001b[0m\u001b[0;34m.\u001b[0m\u001b[0mfind_elements_by_css_selector\u001b[0m\u001b[0;34m(\u001b[0m\u001b[0;34m'h3 .hotel_name_link'\u001b[0m\u001b[0;34m)\u001b[0m\u001b[0;34m\u001b[0m\u001b[0;34m\u001b[0m\u001b[0m\n\u001b[0;32m---> 10\u001b[0;31m         \u001b[0mhotel_links_list\u001b[0m\u001b[0;34m.\u001b[0m\u001b[0mappend\u001b[0m\u001b[0;34m(\u001b[0m\u001b[0mhotel_links\u001b[0m\u001b[0;34m[\u001b[0m\u001b[0mi\u001b[0m\u001b[0;34m]\u001b[0m\u001b[0;34m.\u001b[0m\u001b[0mget_attribute\u001b[0m\u001b[0;34m(\u001b[0m\u001b[0;34m'href'\u001b[0m\u001b[0;34m)\u001b[0m\u001b[0;34m)\u001b[0m\u001b[0;34m\u001b[0m\u001b[0;34m\u001b[0m\u001b[0m\n\u001b[0m\u001b[1;32m     11\u001b[0m \u001b[0;34m\u001b[0m\u001b[0m\n\u001b[1;32m     12\u001b[0m     \u001b[0;32mreturn\u001b[0m \u001b[0mhotel_links_list\u001b[0m\u001b[0;34m\u001b[0m\u001b[0;34m\u001b[0m\u001b[0m\n",
      "\u001b[0;32m/opt/anaconda3/lib/python3.7/site-packages/selenium/webdriver/remote/webelement.py\u001b[0m in \u001b[0;36mget_attribute\u001b[0;34m(self, name)\u001b[0m\n\u001b[1;32m    139\u001b[0m             attributeValue = self.parent.execute_script(\n\u001b[1;32m    140\u001b[0m                 \u001b[0;34m\"return (%s).apply(null, arguments);\"\u001b[0m \u001b[0;34m%\u001b[0m \u001b[0mgetAttribute_js\u001b[0m\u001b[0;34m,\u001b[0m\u001b[0;34m\u001b[0m\u001b[0;34m\u001b[0m\u001b[0m\n\u001b[0;32m--> 141\u001b[0;31m                 self, name)\n\u001b[0m\u001b[1;32m    142\u001b[0m         \u001b[0;32melse\u001b[0m\u001b[0;34m:\u001b[0m\u001b[0;34m\u001b[0m\u001b[0;34m\u001b[0m\u001b[0m\n\u001b[1;32m    143\u001b[0m             \u001b[0mresp\u001b[0m \u001b[0;34m=\u001b[0m \u001b[0mself\u001b[0m\u001b[0;34m.\u001b[0m\u001b[0m_execute\u001b[0m\u001b[0;34m(\u001b[0m\u001b[0mCommand\u001b[0m\u001b[0;34m.\u001b[0m\u001b[0mGET_ELEMENT_ATTRIBUTE\u001b[0m\u001b[0;34m,\u001b[0m \u001b[0;34m{\u001b[0m\u001b[0;34m'name'\u001b[0m\u001b[0;34m:\u001b[0m \u001b[0mname\u001b[0m\u001b[0;34m}\u001b[0m\u001b[0;34m)\u001b[0m\u001b[0;34m\u001b[0m\u001b[0;34m\u001b[0m\u001b[0m\n",
      "\u001b[0;32m/opt/anaconda3/lib/python3.7/site-packages/selenium/webdriver/remote/webdriver.py\u001b[0m in \u001b[0;36mexecute_script\u001b[0;34m(self, script, *args)\u001b[0m\n\u001b[1;32m    634\u001b[0m         return self.execute(command, {\n\u001b[1;32m    635\u001b[0m             \u001b[0;34m'script'\u001b[0m\u001b[0;34m:\u001b[0m \u001b[0mscript\u001b[0m\u001b[0;34m,\u001b[0m\u001b[0;34m\u001b[0m\u001b[0;34m\u001b[0m\u001b[0m\n\u001b[0;32m--> 636\u001b[0;31m             'args': converted_args})['value']\n\u001b[0m\u001b[1;32m    637\u001b[0m \u001b[0;34m\u001b[0m\u001b[0m\n\u001b[1;32m    638\u001b[0m     \u001b[0;32mdef\u001b[0m \u001b[0mexecute_async_script\u001b[0m\u001b[0;34m(\u001b[0m\u001b[0mself\u001b[0m\u001b[0;34m,\u001b[0m \u001b[0mscript\u001b[0m\u001b[0;34m,\u001b[0m \u001b[0;34m*\u001b[0m\u001b[0margs\u001b[0m\u001b[0;34m)\u001b[0m\u001b[0;34m:\u001b[0m\u001b[0;34m\u001b[0m\u001b[0;34m\u001b[0m\u001b[0m\n",
      "\u001b[0;32m/opt/anaconda3/lib/python3.7/site-packages/selenium/webdriver/remote/webdriver.py\u001b[0m in \u001b[0;36mexecute\u001b[0;34m(self, driver_command, params)\u001b[0m\n\u001b[1;32m    319\u001b[0m         \u001b[0mresponse\u001b[0m \u001b[0;34m=\u001b[0m \u001b[0mself\u001b[0m\u001b[0;34m.\u001b[0m\u001b[0mcommand_executor\u001b[0m\u001b[0;34m.\u001b[0m\u001b[0mexecute\u001b[0m\u001b[0;34m(\u001b[0m\u001b[0mdriver_command\u001b[0m\u001b[0;34m,\u001b[0m \u001b[0mparams\u001b[0m\u001b[0;34m)\u001b[0m\u001b[0;34m\u001b[0m\u001b[0;34m\u001b[0m\u001b[0m\n\u001b[1;32m    320\u001b[0m         \u001b[0;32mif\u001b[0m \u001b[0mresponse\u001b[0m\u001b[0;34m:\u001b[0m\u001b[0;34m\u001b[0m\u001b[0;34m\u001b[0m\u001b[0m\n\u001b[0;32m--> 321\u001b[0;31m             \u001b[0mself\u001b[0m\u001b[0;34m.\u001b[0m\u001b[0merror_handler\u001b[0m\u001b[0;34m.\u001b[0m\u001b[0mcheck_response\u001b[0m\u001b[0;34m(\u001b[0m\u001b[0mresponse\u001b[0m\u001b[0;34m)\u001b[0m\u001b[0;34m\u001b[0m\u001b[0;34m\u001b[0m\u001b[0m\n\u001b[0m\u001b[1;32m    322\u001b[0m             response['value'] = self._unwrap_value(\n\u001b[1;32m    323\u001b[0m                 response.get('value', None))\n",
      "\u001b[0;32m/opt/anaconda3/lib/python3.7/site-packages/selenium/webdriver/remote/errorhandler.py\u001b[0m in \u001b[0;36mcheck_response\u001b[0;34m(self, response)\u001b[0m\n\u001b[1;32m    240\u001b[0m                 \u001b[0malert_text\u001b[0m \u001b[0;34m=\u001b[0m \u001b[0mvalue\u001b[0m\u001b[0;34m[\u001b[0m\u001b[0;34m'alert'\u001b[0m\u001b[0;34m]\u001b[0m\u001b[0;34m.\u001b[0m\u001b[0mget\u001b[0m\u001b[0;34m(\u001b[0m\u001b[0;34m'text'\u001b[0m\u001b[0;34m)\u001b[0m\u001b[0;34m\u001b[0m\u001b[0;34m\u001b[0m\u001b[0m\n\u001b[1;32m    241\u001b[0m             \u001b[0;32mraise\u001b[0m \u001b[0mexception_class\u001b[0m\u001b[0;34m(\u001b[0m\u001b[0mmessage\u001b[0m\u001b[0;34m,\u001b[0m \u001b[0mscreen\u001b[0m\u001b[0;34m,\u001b[0m \u001b[0mstacktrace\u001b[0m\u001b[0;34m,\u001b[0m \u001b[0malert_text\u001b[0m\u001b[0;34m)\u001b[0m\u001b[0;34m\u001b[0m\u001b[0;34m\u001b[0m\u001b[0m\n\u001b[0;32m--> 242\u001b[0;31m         \u001b[0;32mraise\u001b[0m \u001b[0mexception_class\u001b[0m\u001b[0;34m(\u001b[0m\u001b[0mmessage\u001b[0m\u001b[0;34m,\u001b[0m \u001b[0mscreen\u001b[0m\u001b[0;34m,\u001b[0m \u001b[0mstacktrace\u001b[0m\u001b[0;34m)\u001b[0m\u001b[0;34m\u001b[0m\u001b[0;34m\u001b[0m\u001b[0m\n\u001b[0m\u001b[1;32m    243\u001b[0m \u001b[0;34m\u001b[0m\u001b[0m\n\u001b[1;32m    244\u001b[0m     \u001b[0;32mdef\u001b[0m \u001b[0m_value_or_default\u001b[0m\u001b[0;34m(\u001b[0m\u001b[0mself\u001b[0m\u001b[0;34m,\u001b[0m \u001b[0mobj\u001b[0m\u001b[0;34m,\u001b[0m \u001b[0mkey\u001b[0m\u001b[0;34m,\u001b[0m \u001b[0mdefault\u001b[0m\u001b[0;34m)\u001b[0m\u001b[0;34m:\u001b[0m\u001b[0;34m\u001b[0m\u001b[0;34m\u001b[0m\u001b[0m\n",
      "\u001b[0;31mStaleElementReferenceException\u001b[0m: Message: stale element reference: element is not attached to the page document\n  (Session info: chrome=83.0.4103.61)\n"
     ]
    }
   ],
   "source": [
    "get_results()"
   ]
  },
  {
   "cell_type": "code",
   "execution_count": 319,
   "metadata": {},
   "outputs": [],
   "source": [
    "def create_dataset(df):\n",
    "    # save data collected and save it to a CSV file\n",
    "    data = pd.DataFrame(df)\n",
    "    data.to_csv('booking.csv', index=False)"
   ]
  }
 ],
 "metadata": {
  "kernelspec": {
   "display_name": "Python 3",
   "language": "python",
   "name": "python3"
  },
  "language_info": {
   "codemirror_mode": {
    "name": "ipython",
    "version": 3
   },
   "file_extension": ".py",
   "mimetype": "text/x-python",
   "name": "python",
   "nbconvert_exporter": "python",
   "pygments_lexer": "ipython3",
   "version": "3.7.7"
  }
 },
 "nbformat": 4,
 "nbformat_minor": 4
}
